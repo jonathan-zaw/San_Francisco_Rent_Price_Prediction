{
 "cells": [
  {
   "cell_type": "code",
   "execution_count": 2,
   "id": "d57121a0-c6b7-4ccb-93cf-bde17547d48b",
   "metadata": {},
   "outputs": [
    {
     "data": {
      "text/html": [
       "<div>\n",
       "<style scoped>\n",
       "    .dataframe tbody tr th:only-of-type {\n",
       "        vertical-align: middle;\n",
       "    }\n",
       "\n",
       "    .dataframe tbody tr th {\n",
       "        vertical-align: top;\n",
       "    }\n",
       "\n",
       "    .dataframe thead th {\n",
       "        text-align: right;\n",
       "    }\n",
       "</style>\n",
       "<table border=\"1\" class=\"dataframe\">\n",
       "  <thead>\n",
       "    <tr style=\"text-align: right;\">\n",
       "      <th></th>\n",
       "      <th>price</th>\n",
       "      <th>sqft</th>\n",
       "      <th>beds</th>\n",
       "      <th>bath</th>\n",
       "      <th>laundry</th>\n",
       "      <th>pets</th>\n",
       "      <th>housing_type</th>\n",
       "      <th>parking</th>\n",
       "      <th>hood_district</th>\n",
       "    </tr>\n",
       "  </thead>\n",
       "  <tbody>\n",
       "    <tr>\n",
       "      <th>0</th>\n",
       "      <td>6800</td>\n",
       "      <td>1600.0</td>\n",
       "      <td>2.0</td>\n",
       "      <td>2.0</td>\n",
       "      <td>(a) in-unit</td>\n",
       "      <td>(d) no pets</td>\n",
       "      <td>(c) multi</td>\n",
       "      <td>(b) protected</td>\n",
       "      <td>7.0</td>\n",
       "    </tr>\n",
       "    <tr>\n",
       "      <th>1</th>\n",
       "      <td>3500</td>\n",
       "      <td>550.0</td>\n",
       "      <td>1.0</td>\n",
       "      <td>1.0</td>\n",
       "      <td>(a) in-unit</td>\n",
       "      <td>(a) both</td>\n",
       "      <td>(c) multi</td>\n",
       "      <td>(b) protected</td>\n",
       "      <td>7.0</td>\n",
       "    </tr>\n",
       "    <tr>\n",
       "      <th>2</th>\n",
       "      <td>5100</td>\n",
       "      <td>1300.0</td>\n",
       "      <td>2.0</td>\n",
       "      <td>1.0</td>\n",
       "      <td>(a) in-unit</td>\n",
       "      <td>(a) both</td>\n",
       "      <td>(c) multi</td>\n",
       "      <td>(d) no parking</td>\n",
       "      <td>7.0</td>\n",
       "    </tr>\n",
       "    <tr>\n",
       "      <th>3</th>\n",
       "      <td>9000</td>\n",
       "      <td>3500.0</td>\n",
       "      <td>3.0</td>\n",
       "      <td>2.5</td>\n",
       "      <td>(a) in-unit</td>\n",
       "      <td>(d) no pets</td>\n",
       "      <td>(c) multi</td>\n",
       "      <td>(b) protected</td>\n",
       "      <td>7.0</td>\n",
       "    </tr>\n",
       "    <tr>\n",
       "      <th>4</th>\n",
       "      <td>3100</td>\n",
       "      <td>561.0</td>\n",
       "      <td>1.0</td>\n",
       "      <td>1.0</td>\n",
       "      <td>(c) no laundry</td>\n",
       "      <td>(a) both</td>\n",
       "      <td>(c) multi</td>\n",
       "      <td>(d) no parking</td>\n",
       "      <td>7.0</td>\n",
       "    </tr>\n",
       "  </tbody>\n",
       "</table>\n",
       "</div>"
      ],
      "text/plain": [
       "   price    sqft  beds  bath         laundry         pets housing_type  \\\n",
       "0   6800  1600.0   2.0   2.0     (a) in-unit  (d) no pets    (c) multi   \n",
       "1   3500   550.0   1.0   1.0     (a) in-unit     (a) both    (c) multi   \n",
       "2   5100  1300.0   2.0   1.0     (a) in-unit     (a) both    (c) multi   \n",
       "3   9000  3500.0   3.0   2.5     (a) in-unit  (d) no pets    (c) multi   \n",
       "4   3100   561.0   1.0   1.0  (c) no laundry     (a) both    (c) multi   \n",
       "\n",
       "          parking  hood_district  \n",
       "0   (b) protected            7.0  \n",
       "1   (b) protected            7.0  \n",
       "2  (d) no parking            7.0  \n",
       "3   (b) protected            7.0  \n",
       "4  (d) no parking            7.0  "
      ]
     },
     "execution_count": 2,
     "metadata": {},
     "output_type": "execute_result"
    }
   ],
   "source": [
    "import pandas as pd \n",
    "import numpy as np \n",
    "import matplotlib.pyplot as plt \n",
    "import seaborn as sns \n",
    "import statsmodels.api as sm\n",
    "from sklearn.model_selection import KFold\n",
    "from sklearn.metrics import r2_score as r2, mean_absolute_error as mae, mean_squared_error as mse\n",
    "\n",
    "rentals_df = pd.read_csv(\"sf_clean.csv\")\n",
    "rentals_df.head()"
   ]
  },
  {
   "cell_type": "markdown",
   "id": "fc92cb7d-ff37-4b8e-87bb-a80c7c724d37",
   "metadata": {},
   "source": [
    "### Data Dictionary\n",
    "\n",
    "1. Price: The rental cost of the property, which serves as the target variable.\n",
    "2. Square Footage (sqft): The total area of the rental property measured in square feet.\n",
    "3. beds : The number of bedrooms available in the rental unit.\n",
    "4. bath : The number of bathrooms provided in the rental unit.\n",
    "5. laundry : Specifies whether the rental includes an in-unit laundry machine, shared laundry access, or no laundry facilities on the    premises.\n",
    "6. pets : Indicates whether the rental permits cats, dogs, or both types of pets.\n",
    "7. housing_type: Describes the type of property, such as a multi-family building, a duplex, or a standalone house.\n",
    "8. parking : Specifies the type of parking offered, including no parking, garage parking, off-street parking, or valet service.\n",
    "9. hood_district: Identifies the area or district within San Francisco where the rental is located.\n",
    "\n"
   ]
  },
  {
   "cell_type": "code",
   "execution_count": 6,
   "id": "432dc11e-663e-467b-b9cb-3f855057dde7",
   "metadata": {},
   "outputs": [
    {
     "name": "stdout",
     "output_type": "stream",
     "text": [
      "<class 'pandas.core.frame.DataFrame'>\n",
      "RangeIndex: 989 entries, 0 to 988\n",
      "Data columns (total 9 columns):\n",
      " #   Column         Non-Null Count  Dtype  \n",
      "---  ------         --------------  -----  \n",
      " 0   price          989 non-null    int64  \n",
      " 1   sqft           989 non-null    float64\n",
      " 2   beds           989 non-null    float64\n",
      " 3   bath           989 non-null    float64\n",
      " 4   laundry        989 non-null    object \n",
      " 5   pets           989 non-null    object \n",
      " 6   housing_type   989 non-null    object \n",
      " 7   parking        989 non-null    object \n",
      " 8   hood_district  989 non-null    float64\n",
      "dtypes: float64(4), int64(1), object(4)\n",
      "memory usage: 69.7+ KB\n"
     ]
    }
   ],
   "source": [
    "rentals_df.info()"
   ]
  },
  {
   "cell_type": "markdown",
   "id": "b6c6afa7-fa43-4e2e-be3b-0d32585c07a0",
   "metadata": {},
   "source": [
    "### Value_counter"
   ]
  },
  {
   "cell_type": "code",
   "execution_count": 16,
   "id": "ec6b39d5-42f5-4d68-ad3b-498cce107edc",
   "metadata": {},
   "outputs": [
    {
     "name": "stdout",
     "output_type": "stream",
     "text": [
      "laundry\n",
      "(a) in-unit       488\n",
      "(b) on-site       370\n",
      "(c) no laundry    131\n",
      "Name: count, dtype: int64\n",
      "pets\n",
      "(d) no pets    510\n",
      "(a) both       367\n",
      "(c) cats        91\n",
      "(b) dogs        21\n",
      "Name: count, dtype: int64\n",
      "housing_type\n",
      "(c) multi     937\n",
      "(a) single     40\n",
      "(b) double     12\n",
      "Name: count, dtype: int64\n",
      "parking\n",
      "(d) no parking    478\n",
      "(b) protected     439\n",
      "(c) off-street     38\n",
      "(a) valet          34\n",
      "Name: count, dtype: int64\n"
     ]
    }
   ],
   "source": [
    "def value_counter(rentals_df):\n",
    "    value_series = pd.DataFrame()\n",
    "    for col in rentals_df.select_dtypes([\"object\"]).columns:\n",
    "        print(rentals_df[col].value_counts())\n",
    "             \n",
    "value_counter(rentals_df)"
   ]
  },
  {
   "cell_type": "code",
   "execution_count": 19,
   "id": "20fc3ed2-383c-4403-82ce-68d49e3d78e1",
   "metadata": {},
   "outputs": [
    {
     "data": {
      "text/plain": [
       "hood_district\n",
       "9.0     332\n",
       "8.0     207\n",
       "7.0     123\n",
       "5.0     106\n",
       "6.0      62\n",
       "2.0      51\n",
       "1.0      50\n",
       "10.0     33\n",
       "3.0      14\n",
       "4.0      11\n",
       "Name: count, dtype: int64"
      ]
     },
     "execution_count": 19,
     "metadata": {},
     "output_type": "execute_result"
    }
   ],
   "source": [
    "hood_counts  = rentals_df['hood_district'].value_counts()\n",
    "hood_counts "
   ]
  },
  {
   "cell_type": "markdown",
   "id": "bda146bd-d8f4-4470-ae9a-a224d6472d6a",
   "metadata": {},
   "source": [
    "## EDA process\n",
    "\n",
    "\n",
    "- The 'hood_district' feature was read as an INTEGER since it should be a categorical feature instead. So it is fixed into object.\n",
    "   \n"
   ]
  },
  {
   "cell_type": "code",
   "execution_count": 22,
   "id": "cccabfad-be9b-4a8d-8f33-3abdbaf52121",
   "metadata": {},
   "outputs": [],
   "source": [
    "rentals_df['hood_district'] = rentals_df['hood_district'].astype('object')\n"
   ]
  },
  {
   "cell_type": "code",
   "execution_count": 24,
   "id": "00296532-ef25-4db7-b7f3-3586c613855c",
   "metadata": {},
   "outputs": [
    {
     "name": "stdout",
     "output_type": "stream",
     "text": [
      "<class 'pandas.core.frame.DataFrame'>\n",
      "RangeIndex: 989 entries, 0 to 988\n",
      "Data columns (total 9 columns):\n",
      " #   Column         Non-Null Count  Dtype  \n",
      "---  ------         --------------  -----  \n",
      " 0   price          989 non-null    int64  \n",
      " 1   sqft           989 non-null    float64\n",
      " 2   beds           989 non-null    float64\n",
      " 3   bath           989 non-null    float64\n",
      " 4   laundry        989 non-null    object \n",
      " 5   pets           989 non-null    object \n",
      " 6   housing_type   989 non-null    object \n",
      " 7   parking        989 non-null    object \n",
      " 8   hood_district  989 non-null    object \n",
      "dtypes: float64(3), int64(1), object(5)\n",
      "memory usage: 69.7+ KB\n"
     ]
    }
   ],
   "source": [
    "rentals_df.info()"
   ]
  },
  {
   "cell_type": "code",
   "execution_count": 31,
   "id": "6ff4b82b-3cb6-4efc-98c4-d2df70abe6f5",
   "metadata": {
    "scrolled": true
   },
   "outputs": [
    {
     "data": {
      "text/html": [
       "<div>\n",
       "<style scoped>\n",
       "    .dataframe tbody tr th:only-of-type {\n",
       "        vertical-align: middle;\n",
       "    }\n",
       "\n",
       "    .dataframe tbody tr th {\n",
       "        vertical-align: top;\n",
       "    }\n",
       "\n",
       "    .dataframe thead th {\n",
       "        text-align: right;\n",
       "    }\n",
       "</style>\n",
       "<table border=\"1\" class=\"dataframe\">\n",
       "  <thead>\n",
       "    <tr style=\"text-align: right;\">\n",
       "      <th></th>\n",
       "      <th>price</th>\n",
       "      <th>sqft</th>\n",
       "      <th>beds</th>\n",
       "      <th>bath</th>\n",
       "    </tr>\n",
       "  </thead>\n",
       "  <tbody>\n",
       "    <tr>\n",
       "      <th>count</th>\n",
       "      <td>989.000000</td>\n",
       "      <td>989.000000</td>\n",
       "      <td>989.000000</td>\n",
       "      <td>989.000000</td>\n",
       "    </tr>\n",
       "    <tr>\n",
       "      <th>mean</th>\n",
       "      <td>3595.035389</td>\n",
       "      <td>976.765420</td>\n",
       "      <td>1.679474</td>\n",
       "      <td>1.390293</td>\n",
       "    </tr>\n",
       "    <tr>\n",
       "      <th>std</th>\n",
       "      <td>1546.222670</td>\n",
       "      <td>474.629798</td>\n",
       "      <td>1.076710</td>\n",
       "      <td>0.562714</td>\n",
       "    </tr>\n",
       "    <tr>\n",
       "      <th>min</th>\n",
       "      <td>750.000000</td>\n",
       "      <td>150.000000</td>\n",
       "      <td>0.000000</td>\n",
       "      <td>1.000000</td>\n",
       "    </tr>\n",
       "    <tr>\n",
       "      <th>25%</th>\n",
       "      <td>2650.000000</td>\n",
       "      <td>650.000000</td>\n",
       "      <td>1.000000</td>\n",
       "      <td>1.000000</td>\n",
       "    </tr>\n",
       "    <tr>\n",
       "      <th>50%</th>\n",
       "      <td>3300.000000</td>\n",
       "      <td>900.000000</td>\n",
       "      <td>2.000000</td>\n",
       "      <td>1.000000</td>\n",
       "    </tr>\n",
       "    <tr>\n",
       "      <th>75%</th>\n",
       "      <td>4242.000000</td>\n",
       "      <td>1200.000000</td>\n",
       "      <td>2.000000</td>\n",
       "      <td>2.000000</td>\n",
       "    </tr>\n",
       "    <tr>\n",
       "      <th>max</th>\n",
       "      <td>19000.000000</td>\n",
       "      <td>3500.000000</td>\n",
       "      <td>6.000000</td>\n",
       "      <td>4.000000</td>\n",
       "    </tr>\n",
       "  </tbody>\n",
       "</table>\n",
       "</div>"
      ],
      "text/plain": [
       "              price         sqft        beds        bath\n",
       "count    989.000000   989.000000  989.000000  989.000000\n",
       "mean    3595.035389   976.765420    1.679474    1.390293\n",
       "std     1546.222670   474.629798    1.076710    0.562714\n",
       "min      750.000000   150.000000    0.000000    1.000000\n",
       "25%     2650.000000   650.000000    1.000000    1.000000\n",
       "50%     3300.000000   900.000000    2.000000    1.000000\n",
       "75%     4242.000000  1200.000000    2.000000    2.000000\n",
       "max    19000.000000  3500.000000    6.000000    4.000000"
      ]
     },
     "execution_count": 31,
     "metadata": {},
     "output_type": "execute_result"
    }
   ],
   "source": [
    "rentals_df.describe()"
   ]
  },
  {
   "cell_type": "markdown",
   "id": "32f02789-18ad-4494-b474-c26c398d062b",
   "metadata": {},
   "source": [
    "- There are some rare and expensive apartment pricing over 10k "
   ]
  },
  {
   "cell_type": "code",
   "execution_count": 34,
   "id": "f417c465-d21e-471f-9c65-83a7eaf06bfb",
   "metadata": {},
   "outputs": [
    {
     "data": {
      "text/plain": [
       "<Axes: xlabel='price', ylabel='Count'>"
      ]
     },
     "execution_count": 34,
     "metadata": {},
     "output_type": "execute_result"
    },
    {
     "data": {
      "image/png": "[encoded data removed]",
      "text/plain": [
       "<Figure size 640x480 with 1 Axes>"
      ]
     },
     "metadata": {},
     "output_type": "display_data"
    }
   ],
   "source": [
    "sns.histplot(rentals_df,  x = 'price')"
   ]
  },
  {
   "cell_type": "code",
   "execution_count": 36,
   "id": "75719a73-07ab-4c2b-a601-38470da94336",
   "metadata": {},
   "outputs": [
    {
     "data": {
      "image/png": "[encoded data removed]",
      "text/plain": [
       "<Figure size 640x480 with 2 Axes>"
      ]
     },
     "metadata": {},
     "output_type": "display_data"
    }
   ],
   "source": [
    "sns.heatmap(rentals_df.corr(numeric_only=True), annot = True , vmin = -1, vmax = 1, cmap = \"coolwarm\");"
   ]
  },
  {
   "cell_type": "markdown",
   "id": "52a0103c-334f-402c-a4a0-a21154b07478",
   "metadata": {},
   "source": [
    "### Creating a pairplot using only the numeric columns from the computer dataframe. \n"
   ]
  },
  {
   "cell_type": "code",
   "execution_count": 156,
   "id": "57bc4ced-494a-423b-9bc5-b014c0d21fe9",
   "metadata": {},
   "outputs": [
    {
     "data": {
      "text/plain": [
       "<seaborn.axisgrid.PairGrid at 0x1282628d0>"
      ]
     },
     "execution_count": 156,
     "metadata": {},
     "output_type": "execute_result"
    },
    {
     "data": {
      "image/png": "[encoded data removed]",
      "text/plain": [
       "<Figure size 1250x1250 with 20 Axes>"
      ]
     },
     "metadata": {},
     "output_type": "display_data"
    }
   ],
   "source": [
    "sns.pairplot(rentals_df, corner = True )"
   ]
  },
  {
   "cell_type": "code",
   "execution_count": 47,
   "id": "fffe5f54-5fff-4400-9de4-8253d0aa9388",
   "metadata": {},
   "outputs": [
    {
     "name": "stdout",
     "output_type": "stream",
     "text": [
      "laundry\n",
      "(a) in-unit       488\n",
      "(b) on-site       370\n",
      "(c) no laundry    131\n",
      "Name: count, dtype: int64\n",
      "pets\n",
      "(d) no pets    510\n",
      "(a) both       367\n",
      "(c) cats        91\n",
      "(b) dogs        21\n",
      "Name: count, dtype: int64\n",
      "housing_type\n",
      "(c) multi     937\n",
      "(a) single     40\n",
      "(b) double     12\n",
      "Name: count, dtype: int64\n",
      "parking\n",
      "(d) no parking    478\n",
      "(b) protected     439\n",
      "(c) off-street     38\n",
      "(a) valet          34\n",
      "Name: count, dtype: int64\n",
      "hood_district\n",
      "9.0     332\n",
      "8.0     207\n",
      "7.0     123\n",
      "5.0     106\n",
      "6.0      62\n",
      "2.0      51\n",
      "1.0      50\n",
      "10.0     33\n",
      "3.0      14\n",
      "4.0      11\n",
      "Name: count, dtype: int64\n"
     ]
    }
   ],
   "source": [
    "def value_counter(rentals_df):\n",
    "    value_series = pd.DataFrame()\n",
    "    for col in rentals_df.select_dtypes([\"object\"]).columns:\n",
    "        print(rentals_df[col].value_counts())\n",
    "             \n",
    "value_counter(rentals_df)"
   ]
  },
  {
   "cell_type": "markdown",
   "id": "4ed602ce-0caa-4306-9bd5-72c005132321",
   "metadata": {},
   "source": [
    "### Try to understand feature_target relationship for categorical features in order to bin\n"
   ]
  },
  {
   "cell_type": "code",
   "execution_count": 50,
   "id": "defc26ad-6173-4c3b-b99d-3619ba6d0065",
   "metadata": {},
   "outputs": [
    {
     "data": {
      "image/png": "[encoded data removed]",
      "text/plain": [
       "<Figure size 640x480 with 1 Axes>"
      ]
     },
     "metadata": {},
     "output_type": "display_data"
    },
    {
     "data": {
      "image/png": "[encoded data removed]",
      "text/plain": [
       "<Figure size 640x480 with 1 Axes>"
      ]
     },
     "metadata": {},
     "output_type": "display_data"
    },
    {
     "data": {
      "image/png": "[encoded data removed]",
      "text/plain": [
       "<Figure size 640x480 with 1 Axes>"
      ]
     },
     "metadata": {},
     "output_type": "display_data"
    },
    {
     "data": {
      "image/png": "[encoded data removed]",
      "text/plain": [
       "<Figure size 640x480 with 1 Axes>"
      ]
     },
     "metadata": {},
     "output_type": "display_data"
    },
    {
     "data": {
      "image/png": "[encoded data removed]",
      "text/plain": [
       "<Figure size 640x480 with 1 Axes>"
      ]
     },
     "metadata": {},
     "output_type": "display_data"
    }
   ],
   "source": [
    "def cat_plotter ( data , target ) :\n",
    "    for col in data.select_dtypes (['object']).columns :\n",
    "        sns.barplot( data = data , x = col , y = target )\n",
    "        plt.xticks (rotation = 45)\n",
    "        plt.show()\n",
    "\n",
    "cat_plotter ( rentals_df , 'price' )"
   ]
  },
  {
   "cell_type": "markdown",
   "id": "4dde4d83-c96b-46c1-8c5b-75ddbe629572",
   "metadata": {},
   "source": [
    "(c) multi     937\n",
    "(a) single     40\n",
    "(b) double     12\n",
    "\n",
    "Since we have very few single and double , we can probably bin the multil and double together and \n",
    "let the single housing_type stand alone "
   ]
  },
  {
   "cell_type": "markdown",
   "id": "5b212263-5cb8-4035-9c85-6fe928af0fc6",
   "metadata": {},
   "source": [
    "### Categorical Mapping "
   ]
  },
  {
   "cell_type": "code",
   "execution_count": 54,
   "id": "ae86cf84-619e-4bb7-9032-44af2f56673f",
   "metadata": {},
   "outputs": [],
   "source": [
    "# Mapping categorical variables\n",
    "laundry_map = {\n",
    "    \"(a) in-unit\": \"in_unit\",\n",
    "    \"(b) on-site\": \"not_in_unit\",\n",
    "    \"(c) no laundry\": \"not_in_unit\",\n",
    "}\n",
    "\n",
    "pet_map = {\n",
    "    \"(a) both\": \"allows_dogs\",\n",
    "    \"(b) dogs\": \"allows_dogs\",\n",
    "    \"(c) cats\": \"no_dogs\",\n",
    "    \"(d) no pets\": \"no_dogs\",\n",
    "}\n",
    "\n",
    "housing_type_map = {\n",
    "    \"(a) single\": \"single\",\n",
    "    \"(b) double\": \"multi\",\n",
    "    \"(c) multi\": \"multi\",\n",
    "}\n",
    "\n",
    "district_map = {\n",
    "    1.0: \"west\",\n",
    "    2.0: \"southwest\",\n",
    "    3.0: \"southwest\",\n",
    "    4.0: \"central\",\n",
    "    5.0: \"central\",\n",
    "    6.0: \"central\",\n",
    "    7.0: \"marina\",\n",
    "    8.0: \"north beach\",\n",
    "    9.0: \"FiDi/SOMA\",\n",
    "    10.0: \"southwest\",\n",
    "}"
   ]
  },
  {
   "cell_type": "code",
   "execution_count": 62,
   "id": "eb563b01-f570-4ae6-b3f2-2bf4c78ef864",
   "metadata": {},
   "outputs": [],
   "source": [
    "# Assigning mapped values to a new DataFrame\n",
    "eng_df = rentals_df.assign(\n",
    "    hood_district=rentals_df[\"hood_district\"].map(district_map),\n",
    "    housing_type=rentals_df[\"housing_type\"].map(housing_type_map),\n",
    "    pets=rentals_df[\"pets\"].map(pet_map),\n",
    "    laundry=rentals_df[\"laundry\"].map(laundry_map),\n",
    "    \n",
    "    # Squared terms\n",
    "#    sqft2=rentals_df[\"sqft\"] ** 2,\n",
    "#    sqft3=rentals_df[\"sqft\"] ** 3,\n",
    "#    beds2=rentals_df[\"beds\"] ** 2,\n",
    "#    beds3=rentals_df[\"beds\"] ** 3,\n",
    "#    bath2=rentals_df[\"bath\"] ** 2,\n",
    "#    bath3=rentals_df[\"bath\"] ** 3,\n",
    "#    beds_bath_ratio=rentals_df[\"beds\"] / rentals_df[\"bath\"],\n",
    ")\n",
    "\n",
    "\n",
    "\n",
    "eng_df = (\n",
    "    pd.get_dummies(eng_df, drop_first=True)\n",
    "       # Convert boolean columns to integers\n",
    ")\n"
   ]
  },
  {
   "cell_type": "code",
   "execution_count": 64,
   "id": "a5b77005-a191-49ed-82fb-2d2e4d0a1606",
   "metadata": {},
   "outputs": [
    {
     "data": {
      "text/html": [
       "<div>\n",
       "<style scoped>\n",
       "    .dataframe tbody tr th:only-of-type {\n",
       "        vertical-align: middle;\n",
       "    }\n",
       "\n",
       "    .dataframe tbody tr th {\n",
       "        vertical-align: top;\n",
       "    }\n",
       "\n",
       "    .dataframe thead th {\n",
       "        text-align: right;\n",
       "    }\n",
       "</style>\n",
       "<table border=\"1\" class=\"dataframe\">\n",
       "  <thead>\n",
       "    <tr style=\"text-align: right;\">\n",
       "      <th></th>\n",
       "      <th>price</th>\n",
       "      <th>sqft</th>\n",
       "      <th>beds</th>\n",
       "      <th>bath</th>\n",
       "      <th>laundry_not_in_unit</th>\n",
       "      <th>pets_no_dogs</th>\n",
       "      <th>housing_type_single</th>\n",
       "      <th>parking_(b) protected</th>\n",
       "      <th>parking_(c) off-street</th>\n",
       "      <th>parking_(d) no parking</th>\n",
       "      <th>hood_district_central</th>\n",
       "      <th>hood_district_marina</th>\n",
       "      <th>hood_district_north beach</th>\n",
       "      <th>hood_district_southwest</th>\n",
       "      <th>hood_district_west</th>\n",
       "    </tr>\n",
       "  </thead>\n",
       "  <tbody>\n",
       "    <tr>\n",
       "      <th>0</th>\n",
       "      <td>6800</td>\n",
       "      <td>1600</td>\n",
       "      <td>2</td>\n",
       "      <td>2</td>\n",
       "      <td>0</td>\n",
       "      <td>1</td>\n",
       "      <td>0</td>\n",
       "      <td>1</td>\n",
       "      <td>0</td>\n",
       "      <td>0</td>\n",
       "      <td>0</td>\n",
       "      <td>1</td>\n",
       "      <td>0</td>\n",
       "      <td>0</td>\n",
       "      <td>0</td>\n",
       "    </tr>\n",
       "    <tr>\n",
       "      <th>1</th>\n",
       "      <td>3500</td>\n",
       "      <td>550</td>\n",
       "      <td>1</td>\n",
       "      <td>1</td>\n",
       "      <td>0</td>\n",
       "      <td>0</td>\n",
       "      <td>0</td>\n",
       "      <td>1</td>\n",
       "      <td>0</td>\n",
       "      <td>0</td>\n",
       "      <td>0</td>\n",
       "      <td>1</td>\n",
       "      <td>0</td>\n",
       "      <td>0</td>\n",
       "      <td>0</td>\n",
       "    </tr>\n",
       "    <tr>\n",
       "      <th>2</th>\n",
       "      <td>5100</td>\n",
       "      <td>1300</td>\n",
       "      <td>2</td>\n",
       "      <td>1</td>\n",
       "      <td>0</td>\n",
       "      <td>0</td>\n",
       "      <td>0</td>\n",
       "      <td>0</td>\n",
       "      <td>0</td>\n",
       "      <td>1</td>\n",
       "      <td>0</td>\n",
       "      <td>1</td>\n",
       "      <td>0</td>\n",
       "      <td>0</td>\n",
       "      <td>0</td>\n",
       "    </tr>\n",
       "    <tr>\n",
       "      <th>3</th>\n",
       "      <td>9000</td>\n",
       "      <td>3500</td>\n",
       "      <td>3</td>\n",
       "      <td>2</td>\n",
       "      <td>0</td>\n",
       "      <td>1</td>\n",
       "      <td>0</td>\n",
       "      <td>1</td>\n",
       "      <td>0</td>\n",
       "      <td>0</td>\n",
       "      <td>0</td>\n",
       "      <td>1</td>\n",
       "      <td>0</td>\n",
       "      <td>0</td>\n",
       "      <td>0</td>\n",
       "    </tr>\n",
       "    <tr>\n",
       "      <th>4</th>\n",
       "      <td>3100</td>\n",
       "      <td>561</td>\n",
       "      <td>1</td>\n",
       "      <td>1</td>\n",
       "      <td>1</td>\n",
       "      <td>0</td>\n",
       "      <td>0</td>\n",
       "      <td>0</td>\n",
       "      <td>0</td>\n",
       "      <td>1</td>\n",
       "      <td>0</td>\n",
       "      <td>1</td>\n",
       "      <td>0</td>\n",
       "      <td>0</td>\n",
       "      <td>0</td>\n",
       "    </tr>\n",
       "  </tbody>\n",
       "</table>\n",
       "</div>"
      ],
      "text/plain": [
       "   price  sqft  beds  bath  laundry_not_in_unit  pets_no_dogs  \\\n",
       "0   6800  1600     2     2                    0             1   \n",
       "1   3500   550     1     1                    0             0   \n",
       "2   5100  1300     2     1                    0             0   \n",
       "3   9000  3500     3     2                    0             1   \n",
       "4   3100   561     1     1                    1             0   \n",
       "\n",
       "   housing_type_single  parking_(b) protected  parking_(c) off-street  \\\n",
       "0                    0                      1                       0   \n",
       "1                    0                      1                       0   \n",
       "2                    0                      0                       0   \n",
       "3                    0                      1                       0   \n",
       "4                    0                      0                       0   \n",
       "\n",
       "   parking_(d) no parking  hood_district_central  hood_district_marina  \\\n",
       "0                       0                      0                     1   \n",
       "1                       0                      0                     1   \n",
       "2                       1                      0                     1   \n",
       "3                       0                      0                     1   \n",
       "4                       1                      0                     1   \n",
       "\n",
       "   hood_district_north beach  hood_district_southwest  hood_district_west  \n",
       "0                          0                        0                   0  \n",
       "1                          0                        0                   0  \n",
       "2                          0                        0                   0  \n",
       "3                          0                        0                   0  \n",
       "4                          0                        0                   0  "
      ]
     },
     "execution_count": 64,
     "metadata": {},
     "output_type": "execute_result"
    }
   ],
   "source": [
    "eng_df.head()"
   ]
  },
  {
   "cell_type": "code",
   "execution_count": 60,
   "id": "99838cd1-bcdb-4975-ab84-15ce401134ac",
   "metadata": {},
   "outputs": [
    {
     "data": {
      "text/html": [
       "<div>\n",
       "<style scoped>\n",
       "    .dataframe tbody tr th:only-of-type {\n",
       "        vertical-align: middle;\n",
       "    }\n",
       "\n",
       "    .dataframe tbody tr th {\n",
       "        vertical-align: top;\n",
       "    }\n",
       "\n",
       "    .dataframe thead th {\n",
       "        text-align: right;\n",
       "    }\n",
       "</style>\n",
       "<table border=\"1\" class=\"dataframe\">\n",
       "  <thead>\n",
       "    <tr style=\"text-align: right;\">\n",
       "      <th></th>\n",
       "      <th>price</th>\n",
       "      <th>sqft</th>\n",
       "      <th>beds</th>\n",
       "      <th>bath</th>\n",
       "      <th>laundry</th>\n",
       "      <th>pets</th>\n",
       "      <th>housing_type</th>\n",
       "      <th>parking</th>\n",
       "      <th>hood_district</th>\n",
       "    </tr>\n",
       "  </thead>\n",
       "  <tbody>\n",
       "    <tr>\n",
       "      <th>0</th>\n",
       "      <td>6800</td>\n",
       "      <td>1600.0</td>\n",
       "      <td>2.0</td>\n",
       "      <td>2.0</td>\n",
       "      <td>(a) in-unit</td>\n",
       "      <td>(d) no pets</td>\n",
       "      <td>(c) multi</td>\n",
       "      <td>(b) protected</td>\n",
       "      <td>7.0</td>\n",
       "    </tr>\n",
       "    <tr>\n",
       "      <th>1</th>\n",
       "      <td>3500</td>\n",
       "      <td>550.0</td>\n",
       "      <td>1.0</td>\n",
       "      <td>1.0</td>\n",
       "      <td>(a) in-unit</td>\n",
       "      <td>(a) both</td>\n",
       "      <td>(c) multi</td>\n",
       "      <td>(b) protected</td>\n",
       "      <td>7.0</td>\n",
       "    </tr>\n",
       "    <tr>\n",
       "      <th>2</th>\n",
       "      <td>5100</td>\n",
       "      <td>1300.0</td>\n",
       "      <td>2.0</td>\n",
       "      <td>1.0</td>\n",
       "      <td>(a) in-unit</td>\n",
       "      <td>(a) both</td>\n",
       "      <td>(c) multi</td>\n",
       "      <td>(d) no parking</td>\n",
       "      <td>7.0</td>\n",
       "    </tr>\n",
       "    <tr>\n",
       "      <th>3</th>\n",
       "      <td>9000</td>\n",
       "      <td>3500.0</td>\n",
       "      <td>3.0</td>\n",
       "      <td>2.5</td>\n",
       "      <td>(a) in-unit</td>\n",
       "      <td>(d) no pets</td>\n",
       "      <td>(c) multi</td>\n",
       "      <td>(b) protected</td>\n",
       "      <td>7.0</td>\n",
       "    </tr>\n",
       "    <tr>\n",
       "      <th>4</th>\n",
       "      <td>3100</td>\n",
       "      <td>561.0</td>\n",
       "      <td>1.0</td>\n",
       "      <td>1.0</td>\n",
       "      <td>(c) no laundry</td>\n",
       "      <td>(a) both</td>\n",
       "      <td>(c) multi</td>\n",
       "      <td>(d) no parking</td>\n",
       "      <td>7.0</td>\n",
       "    </tr>\n",
       "  </tbody>\n",
       "</table>\n",
       "</div>"
      ],
      "text/plain": [
       "   price    sqft  beds  bath         laundry         pets housing_type  \\\n",
       "0   6800  1600.0   2.0   2.0     (a) in-unit  (d) no pets    (c) multi   \n",
       "1   3500   550.0   1.0   1.0     (a) in-unit     (a) both    (c) multi   \n",
       "2   5100  1300.0   2.0   1.0     (a) in-unit     (a) both    (c) multi   \n",
       "3   9000  3500.0   3.0   2.5     (a) in-unit  (d) no pets    (c) multi   \n",
       "4   3100   561.0   1.0   1.0  (c) no laundry     (a) both    (c) multi   \n",
       "\n",
       "          parking hood_district  \n",
       "0   (b) protected           7.0  \n",
       "1   (b) protected           7.0  \n",
       "2  (d) no parking           7.0  \n",
       "3   (b) protected           7.0  \n",
       "4  (d) no parking           7.0  "
      ]
     },
     "execution_count": 60,
     "metadata": {},
     "output_type": "execute_result"
    }
   ],
   "source": [
    "rentals_df.head()"
   ]
  },
  {
   "cell_type": "code",
   "execution_count": 66,
   "id": "a21361ea-a9de-4707-8923-fa4f7eb1752d",
   "metadata": {},
   "outputs": [],
   "source": [
    "# Splitting the dataset\n",
    "from sklearn.model_selection import train_test_split\n",
    "\n",
    "target = \"price\"\n",
    "drop_cols = [\n",
    "    # Example columns to drop (commented for now)\n",
    "    # \"pets_no_dogs\",\n",
    "    # \"housing_type_single\",\n",
    "    # \"beds_bath_ratio\",\n",
    "]\n",
    "\n",
    "X = sm.add_constant(eng_df.drop([target] + drop_cols, axis=1))\n",
    "y = eng_df[target]\n",
    "\n",
    "# Optional log transformation for the target\n",
    "# y = np.log(eng_df[target])\n",
    "\n",
    "X_train, X_test, y_train, y_test = train_test_split(X, y, test_size=0.2, random_state=2023)"
   ]
  },
  {
   "cell_type": "code",
   "execution_count": 68,
   "id": "92011f72-8916-4cd9-9f76-986f722982fb",
   "metadata": {},
   "outputs": [
    {
     "name": "stdout",
     "output_type": "stream",
     "text": [
      "All Training R2s: [0.748, 0.755, 0.744, 0.783, 0.75]\n",
      "Training R2s: 0.756 +- 0.014\n",
      "All Training MAEs: [498.985, 498.08, 479.466, 478.279, 508.794]\n",
      "Training MAEs: 492.721 +- 11.921\n",
      "All Validation R2s: [0.781, 0.741, 0.77, 0.673, 0.767]\n",
      "Cross Val R2s: 0.746 +- 0.039\n",
      "All Validation MAEs: [489.39, 497.826, 533.221, 530.691, 456.599]\n",
      "Cross Val MAEs: 501.546 +- 28.406\n"
     ]
    }
   ],
   "source": [
    "from sklearn.model_selection import train_test_split, KFold\n",
    "import statsmodels.api as sm\n",
    "from sklearn.metrics import r2_score, mean_absolute_error\n",
    "\n",
    "# Function to perform cross-validation and model training\n",
    "def cross_val(X, y, n_splits):\n",
    "    # Create a KFold object for cross-validation\n",
    "    kf = KFold(n_splits=n_splits, shuffle=True, random_state=2023)\n",
    "\n",
    "    # Lists to store validation scores for each fold\n",
    "    cv_lm_tr_r2s = []\n",
    "    cv_lm_tr_mae = []\n",
    "    cv_lm_val_r2s = []\n",
    "    cv_lm_val_mae = []\n",
    "\n",
    "    for train_ind, val_ind in kf.split(X, y):\n",
    "        X_train, y_train = X.iloc[train_ind], y.iloc[train_ind]\n",
    "        X_val, y_val = X.iloc[val_ind], y.iloc[val_ind]\n",
    "\n",
    "        # Fit the OLS model on training data\n",
    "        model = sm.OLS(y_train, X_train).fit()\n",
    "\n",
    "        # Append validation scores to lists\n",
    "        cv_lm_tr_r2s.append(r2_score(y_train, model.predict(X_train)))\n",
    "        cv_lm_tr_mae.append(mean_absolute_error(y_train, model.predict(X_train)))\n",
    "        cv_lm_val_r2s.append(r2_score(y_val, model.predict(X_val)))\n",
    "        cv_lm_val_mae.append(mean_absolute_error(y_val, model.predict(X_val)))\n",
    "\n",
    "    # Print validation scores\n",
    "    print(f\"All Training R2s: {[round(x, 3) for x in cv_lm_tr_r2s]}\")\n",
    "    print(f\"Training R2s: {round(np.mean(cv_lm_tr_r2s), 3)} +- {round(np.std(cv_lm_tr_r2s), 3)}\")\n",
    "\n",
    "    print(f\"All Training MAEs: {[round(x, 3) for x in cv_lm_tr_mae]}\")\n",
    "    print(f\"Training MAEs: {round(np.mean(cv_lm_tr_mae), 3)} +- {round(np.std(cv_lm_tr_mae), 3)}\")\n",
    "\n",
    "    print(f\"All Validation R2s: {[round(x, 3) for x in cv_lm_val_r2s]}\")\n",
    "    print(f\"Cross Val R2s: {round(np.mean(cv_lm_val_r2s), 3)} +- {round(np.std(cv_lm_val_r2s), 3)}\")\n",
    "\n",
    "    print(f\"All Validation MAEs: {[round(x, 3) for x in cv_lm_val_mae]}\")\n",
    "    print(f\"Cross Val MAEs: {round(np.mean(cv_lm_val_mae), 3)} +- {round(np.std(cv_lm_val_mae), 3)}\")\n",
    "\n",
    "    return model\n",
    "\n",
    "# Split the data into training and testing sets\n",
    "X_train, X_test, y_train, y_test = train_test_split(X, y, test_size=0.2, random_state=2023)\n",
    "\n",
    "# Perform cross-validation and train the model\n",
    "model = cross_val(X_train, y_train, 5)"
   ]
  },
  {
   "cell_type": "code",
   "execution_count": 70,
   "id": "3afd124a-ae88-4030-a977-2b432a21918c",
   "metadata": {},
   "outputs": [
    {
     "data": {
      "text/html": [
       "<table class=\"simpletable\">\n",
       "<caption>OLS Regression Results</caption>\n",
       "<tr>\n",
       "  <th>Dep. Variable:</th>          <td>price</td>      <th>  R-squared:         </th> <td>   0.750</td> \n",
       "</tr>\n",
       "<tr>\n",
       "  <th>Model:</th>                   <td>OLS</td>       <th>  Adj. R-squared:    </th> <td>   0.745</td> \n",
       "</tr>\n",
       "<tr>\n",
       "  <th>Method:</th>             <td>Least Squares</td>  <th>  F-statistic:       </th> <td>   132.7</td> \n",
       "</tr>\n",
       "<tr>\n",
       "  <th>Date:</th>             <td>Thu, 07 Nov 2024</td> <th>  Prob (F-statistic):</th> <td>1.28e-175</td>\n",
       "</tr>\n",
       "<tr>\n",
       "  <th>Time:</th>                 <td>21:22:23</td>     <th>  Log-Likelihood:    </th> <td> -5138.8</td> \n",
       "</tr>\n",
       "<tr>\n",
       "  <th>No. Observations:</th>      <td>   633</td>      <th>  AIC:               </th> <td>1.031e+04</td>\n",
       "</tr>\n",
       "<tr>\n",
       "  <th>Df Residuals:</th>          <td>   618</td>      <th>  BIC:               </th> <td>1.037e+04</td>\n",
       "</tr>\n",
       "<tr>\n",
       "  <th>Df Model:</th>              <td>    14</td>      <th>                     </th>     <td> </td>    \n",
       "</tr>\n",
       "<tr>\n",
       "  <th>Covariance Type:</th>      <td>nonrobust</td>    <th>                     </th>     <td> </td>    \n",
       "</tr>\n",
       "</table>\n",
       "<table class=\"simpletable\">\n",
       "<tr>\n",
       "              <td></td>                 <th>coef</th>     <th>std err</th>      <th>t</th>      <th>P>|t|</th>  <th>[0.025</th>    <th>0.975]</th>  \n",
       "</tr>\n",
       "<tr>\n",
       "  <th>const</th>                     <td> 2364.3589</td> <td>  214.417</td> <td>   11.027</td> <td> 0.000</td> <td> 1943.284</td> <td> 2785.434</td>\n",
       "</tr>\n",
       "<tr>\n",
       "  <th>sqft</th>                      <td>    1.9830</td> <td>    0.122</td> <td>   16.289</td> <td> 0.000</td> <td>    1.744</td> <td>    2.222</td>\n",
       "</tr>\n",
       "<tr>\n",
       "  <th>beds</th>                      <td>  148.8010</td> <td>   48.243</td> <td>    3.084</td> <td> 0.002</td> <td>   54.060</td> <td>  243.542</td>\n",
       "</tr>\n",
       "<tr>\n",
       "  <th>bath</th>                      <td>  381.5312</td> <td>   85.428</td> <td>    4.466</td> <td> 0.000</td> <td>  213.767</td> <td>  549.295</td>\n",
       "</tr>\n",
       "<tr>\n",
       "  <th>laundry_not_in_unit</th>       <td> -273.8442</td> <td>   77.871</td> <td>   -3.517</td> <td> 0.000</td> <td> -426.768</td> <td> -120.921</td>\n",
       "</tr>\n",
       "<tr>\n",
       "  <th>pets_no_dogs</th>              <td>   49.6189</td> <td>   70.200</td> <td>    0.707</td> <td> 0.480</td> <td>  -88.241</td> <td>  187.479</td>\n",
       "</tr>\n",
       "<tr>\n",
       "  <th>housing_type_single</th>       <td> -162.9968</td> <td>  176.030</td> <td>   -0.926</td> <td> 0.355</td> <td> -508.687</td> <td>  182.693</td>\n",
       "</tr>\n",
       "<tr>\n",
       "  <th>parking_(b) protected</th>     <td>-1392.9284</td> <td>  183.731</td> <td>   -7.581</td> <td> 0.000</td> <td>-1753.741</td> <td>-1032.116</td>\n",
       "</tr>\n",
       "<tr>\n",
       "  <th>parking_(c) off-street</th>    <td>-1101.7344</td> <td>  261.097</td> <td>   -4.220</td> <td> 0.000</td> <td>-1614.480</td> <td> -588.989</td>\n",
       "</tr>\n",
       "<tr>\n",
       "  <th>parking_(d) no parking</th>    <td>-1512.4565</td> <td>  189.479</td> <td>   -7.982</td> <td> 0.000</td> <td>-1884.557</td> <td>-1140.356</td>\n",
       "</tr>\n",
       "<tr>\n",
       "  <th>hood_district_central</th>     <td>  187.2612</td> <td>  100.195</td> <td>    1.869</td> <td> 0.062</td> <td>   -9.502</td> <td>  384.024</td>\n",
       "</tr>\n",
       "<tr>\n",
       "  <th>hood_district_marina</th>      <td>  345.7842</td> <td>  116.611</td> <td>    2.965</td> <td> 0.003</td> <td>  116.783</td> <td>  574.785</td>\n",
       "</tr>\n",
       "<tr>\n",
       "  <th>hood_district_north beach</th> <td>  102.4616</td> <td>   97.621</td> <td>    1.050</td> <td> 0.294</td> <td>  -89.248</td> <td>  294.172</td>\n",
       "</tr>\n",
       "<tr>\n",
       "  <th>hood_district_southwest</th>   <td> -462.2429</td> <td>  128.903</td> <td>   -3.586</td> <td> 0.000</td> <td> -715.384</td> <td> -209.102</td>\n",
       "</tr>\n",
       "<tr>\n",
       "  <th>hood_district_west</th>        <td> -142.1636</td> <td>  156.915</td> <td>   -0.906</td> <td> 0.365</td> <td> -450.314</td> <td>  165.987</td>\n",
       "</tr>\n",
       "</table>\n",
       "<table class=\"simpletable\">\n",
       "<tr>\n",
       "  <th>Omnibus:</th>       <td>595.900</td> <th>  Durbin-Watson:     </th> <td>   1.917</td> \n",
       "</tr>\n",
       "<tr>\n",
       "  <th>Prob(Omnibus):</th> <td> 0.000</td>  <th>  Jarque-Bera (JB):  </th> <td>49483.263</td>\n",
       "</tr>\n",
       "<tr>\n",
       "  <th>Skew:</th>          <td> 3.834</td>  <th>  Prob(JB):          </th> <td>    0.00</td> \n",
       "</tr>\n",
       "<tr>\n",
       "  <th>Kurtosis:</th>      <td>45.630</td>  <th>  Cond. No.          </th> <td>1.31e+04</td> \n",
       "</tr>\n",
       "</table><br/><br/>Notes:<br/>[1] Standard Errors assume that the covariance matrix of the errors is correctly specified.<br/>[2] The condition number is large, 1.31e+04. This might indicate that there are<br/>strong multicollinearity or other numerical problems."
      ],
      "text/latex": [
       "\\begin{center}\n",
       "\\begin{tabular}{lclc}\n",
       "\\toprule\n",
       "\\textbf{Dep. Variable:}              &      price       & \\textbf{  R-squared:         } &     0.750   \\\\\n",
       "\\textbf{Model:}                      &       OLS        & \\textbf{  Adj. R-squared:    } &     0.745   \\\\\n",
       "\\textbf{Method:}                     &  Least Squares   & \\textbf{  F-statistic:       } &     132.7   \\\\\n",
       "\\textbf{Date:}                       & Thu, 07 Nov 2024 & \\textbf{  Prob (F-statistic):} & 1.28e-175   \\\\\n",
       "\\textbf{Time:}                       &     21:22:23     & \\textbf{  Log-Likelihood:    } &   -5138.8   \\\\\n",
       "\\textbf{No. Observations:}           &         633      & \\textbf{  AIC:               } & 1.031e+04   \\\\\n",
       "\\textbf{Df Residuals:}               &         618      & \\textbf{  BIC:               } & 1.037e+04   \\\\\n",
       "\\textbf{Df Model:}                   &          14      & \\textbf{                     } &             \\\\\n",
       "\\textbf{Covariance Type:}            &    nonrobust     & \\textbf{                     } &             \\\\\n",
       "\\bottomrule\n",
       "\\end{tabular}\n",
       "\\begin{tabular}{lcccccc}\n",
       "                                     & \\textbf{coef} & \\textbf{std err} & \\textbf{t} & \\textbf{P$> |$t$|$} & \\textbf{[0.025} & \\textbf{0.975]}  \\\\\n",
       "\\midrule\n",
       "\\textbf{const}                       &    2364.3589  &      214.417     &    11.027  &         0.000        &     1943.284    &     2785.434     \\\\\n",
       "\\textbf{sqft}                        &       1.9830  &        0.122     &    16.289  &         0.000        &        1.744    &        2.222     \\\\\n",
       "\\textbf{beds}                        &     148.8010  &       48.243     &     3.084  &         0.002        &       54.060    &      243.542     \\\\\n",
       "\\textbf{bath}                        &     381.5312  &       85.428     &     4.466  &         0.000        &      213.767    &      549.295     \\\\\n",
       "\\textbf{laundry\\_not\\_in\\_unit}      &    -273.8442  &       77.871     &    -3.517  &         0.000        &     -426.768    &     -120.921     \\\\\n",
       "\\textbf{pets\\_no\\_dogs}              &      49.6189  &       70.200     &     0.707  &         0.480        &      -88.241    &      187.479     \\\\\n",
       "\\textbf{housing\\_type\\_single}       &    -162.9968  &      176.030     &    -0.926  &         0.355        &     -508.687    &      182.693     \\\\\n",
       "\\textbf{parking\\_(b) protected}      &   -1392.9284  &      183.731     &    -7.581  &         0.000        &    -1753.741    &    -1032.116     \\\\\n",
       "\\textbf{parking\\_(c) off-street}     &   -1101.7344  &      261.097     &    -4.220  &         0.000        &    -1614.480    &     -588.989     \\\\\n",
       "\\textbf{parking\\_(d) no parking}     &   -1512.4565  &      189.479     &    -7.982  &         0.000        &    -1884.557    &    -1140.356     \\\\\n",
       "\\textbf{hood\\_district\\_central}     &     187.2612  &      100.195     &     1.869  &         0.062        &       -9.502    &      384.024     \\\\\n",
       "\\textbf{hood\\_district\\_marina}      &     345.7842  &      116.611     &     2.965  &         0.003        &      116.783    &      574.785     \\\\\n",
       "\\textbf{hood\\_district\\_north beach} &     102.4616  &       97.621     &     1.050  &         0.294        &      -89.248    &      294.172     \\\\\n",
       "\\textbf{hood\\_district\\_southwest}   &    -462.2429  &      128.903     &    -3.586  &         0.000        &     -715.384    &     -209.102     \\\\\n",
       "\\textbf{hood\\_district\\_west}        &    -142.1636  &      156.915     &    -0.906  &         0.365        &     -450.314    &      165.987     \\\\\n",
       "\\bottomrule\n",
       "\\end{tabular}\n",
       "\\begin{tabular}{lclc}\n",
       "\\textbf{Omnibus:}       & 595.900 & \\textbf{  Durbin-Watson:     } &     1.917  \\\\\n",
       "\\textbf{Prob(Omnibus):} &   0.000 & \\textbf{  Jarque-Bera (JB):  } & 49483.263  \\\\\n",
       "\\textbf{Skew:}          &   3.834 & \\textbf{  Prob(JB):          } &      0.00  \\\\\n",
       "\\textbf{Kurtosis:}      &  45.630 & \\textbf{  Cond. No.          } &  1.31e+04  \\\\\n",
       "\\bottomrule\n",
       "\\end{tabular}\n",
       "%\\caption{OLS Regression Results}\n",
       "\\end{center}\n",
       "\n",
       "Notes: \\newline\n",
       " [1] Standard Errors assume that the covariance matrix of the errors is correctly specified. \\newline\n",
       " [2] The condition number is large, 1.31e+04. This might indicate that there are \\newline\n",
       " strong multicollinearity or other numerical problems."
      ],
      "text/plain": [
       "<class 'statsmodels.iolib.summary.Summary'>\n",
       "\"\"\"\n",
       "                            OLS Regression Results                            \n",
       "==============================================================================\n",
       "Dep. Variable:                  price   R-squared:                       0.750\n",
       "Model:                            OLS   Adj. R-squared:                  0.745\n",
       "Method:                 Least Squares   F-statistic:                     132.7\n",
       "Date:                Thu, 07 Nov 2024   Prob (F-statistic):          1.28e-175\n",
       "Time:                        21:22:23   Log-Likelihood:                -5138.8\n",
       "No. Observations:                 633   AIC:                         1.031e+04\n",
       "Df Residuals:                     618   BIC:                         1.037e+04\n",
       "Df Model:                          14                                         \n",
       "Covariance Type:            nonrobust                                         \n",
       "=============================================================================================\n",
       "                                coef    std err          t      P>|t|      [0.025      0.975]\n",
       "---------------------------------------------------------------------------------------------\n",
       "const                      2364.3589    214.417     11.027      0.000    1943.284    2785.434\n",
       "sqft                          1.9830      0.122     16.289      0.000       1.744       2.222\n",
       "beds                        148.8010     48.243      3.084      0.002      54.060     243.542\n",
       "bath                        381.5312     85.428      4.466      0.000     213.767     549.295\n",
       "laundry_not_in_unit        -273.8442     77.871     -3.517      0.000    -426.768    -120.921\n",
       "pets_no_dogs                 49.6189     70.200      0.707      0.480     -88.241     187.479\n",
       "housing_type_single        -162.9968    176.030     -0.926      0.355    -508.687     182.693\n",
       "parking_(b) protected     -1392.9284    183.731     -7.581      0.000   -1753.741   -1032.116\n",
       "parking_(c) off-street    -1101.7344    261.097     -4.220      0.000   -1614.480    -588.989\n",
       "parking_(d) no parking    -1512.4565    189.479     -7.982      0.000   -1884.557   -1140.356\n",
       "hood_district_central       187.2612    100.195      1.869      0.062      -9.502     384.024\n",
       "hood_district_marina        345.7842    116.611      2.965      0.003     116.783     574.785\n",
       "hood_district_north beach   102.4616     97.621      1.050      0.294     -89.248     294.172\n",
       "hood_district_southwest    -462.2429    128.903     -3.586      0.000    -715.384    -209.102\n",
       "hood_district_west         -142.1636    156.915     -0.906      0.365    -450.314     165.987\n",
       "==============================================================================\n",
       "Omnibus:                      595.900   Durbin-Watson:                   1.917\n",
       "Prob(Omnibus):                  0.000   Jarque-Bera (JB):            49483.263\n",
       "Skew:                           3.834   Prob(JB):                         0.00\n",
       "Kurtosis:                      45.630   Cond. No.                     1.31e+04\n",
       "==============================================================================\n",
       "\n",
       "Notes:\n",
       "[1] Standard Errors assume that the covariance matrix of the errors is correctly specified.\n",
       "[2] The condition number is large, 1.31e+04. This might indicate that there are\n",
       "strong multicollinearity or other numerical problems.\n",
       "\"\"\""
      ]
     },
     "execution_count": 70,
     "metadata": {},
     "output_type": "execute_result"
    }
   ],
   "source": [
    "model.summary()"
   ]
  },
  {
   "cell_type": "markdown",
   "id": "a0a13360-0bf8-41b8-a391-37c20fba5bcd",
   "metadata": {},
   "source": [
    "- SINCE pets_no_dogs and housing_type_single stand out from Pvalue \n",
    "- also likely to cause overfitting\n"
   ]
  },
  {
   "cell_type": "code",
   "execution_count": 86,
   "id": "9f66d43a-0a3e-4a24-b0b8-3f05c4aed9ae",
   "metadata": {},
   "outputs": [],
   "source": [
    "# Splitting the dataset\n",
    "from sklearn.model_selection import train_test_split\n",
    "\n",
    "target = \"price\"\n",
    "drop_cols = [\n",
    "    # Example columns to drop (commented for now)\n",
    "     \"pets_no_dogs\",\n",
    "     \"housing_type_single\",\n",
    "    # \"beds_bath_ratio\",\n",
    "]\n",
    "\n",
    "X = sm.add_constant(eng_df.drop([target] + drop_cols, axis=1))\n",
    "# y = eng_df[target]\n",
    "\n",
    "# Optional log transformation for the target\n",
    "y = np.log(eng_df[target])\n",
    "\n",
    "X_train, X_test, y_train, y_test = train_test_split(X, y, test_size=0.2, random_state=2023)"
   ]
  },
  {
   "cell_type": "markdown",
   "id": "bc09d74c-f0ca-47f0-9edb-e961aa06d66f",
   "metadata": {},
   "source": [
    "Once the model learns to predict those log numbers, you can transform the results back to the original scale (by applying exp())."
   ]
  },
  {
   "cell_type": "code",
   "execution_count": 88,
   "id": "cfd085f6-a768-4a5d-81bb-6b9bbf7a424f",
   "metadata": {},
   "outputs": [
    {
     "name": "stdout",
     "output_type": "stream",
     "text": [
      "All Training R2s: [0.812, 0.811, 0.801, 0.812, 0.804]\n",
      "Training R2s: 0.808 +- 0.005\n",
      "All Training MAEs: [0.128, 0.132, 0.132, 0.131, 0.133]\n",
      "Training MAEs: 0.131 +- 0.002\n",
      "All Validation R2s: [0.787, 0.785, 0.818, 0.781, 0.81]\n",
      "Cross Val R2s: 0.796 +- 0.015\n",
      "All Validation MAEs: [0.146, 0.129, 0.132, 0.136, 0.127]\n",
      "Cross Val MAEs: 0.134 +- 0.007\n"
     ]
    }
   ],
   "source": [
    "from sklearn.model_selection import train_test_split, KFold\n",
    "import statsmodels.api as sm\n",
    "from sklearn.metrics import r2_score, mean_absolute_error\n",
    "\n",
    "# Function to perform cross-validation and model training\n",
    "def cross_val(X, y, n_splits):\n",
    "    # Create a KFold object for cross-validation\n",
    "    kf = KFold(n_splits=n_splits, shuffle=True, random_state=2023)\n",
    "\n",
    "    # Lists to store validation scores for each fold\n",
    "    cv_lm_tr_r2s = []\n",
    "    cv_lm_tr_mae = []\n",
    "    cv_lm_val_r2s = []\n",
    "    cv_lm_val_mae = []\n",
    "\n",
    "    for train_ind, val_ind in kf.split(X, y):\n",
    "        X_train, y_train = X.iloc[train_ind], y.iloc[train_ind]\n",
    "        X_val, y_val = X.iloc[val_ind], y.iloc[val_ind]\n",
    "\n",
    "        # Fit the OLS model on training data\n",
    "        model = sm.OLS(y_train, X_train).fit()\n",
    "\n",
    "        # Append validation scores to lists\n",
    "        cv_lm_tr_r2s.append(r2_score(y_train, model.predict(X_train)))\n",
    "        cv_lm_tr_mae.append(mean_absolute_error(y_train, model.predict(X_train)))\n",
    "        cv_lm_val_r2s.append(r2_score(y_val, model.predict(X_val)))\n",
    "        cv_lm_val_mae.append(mean_absolute_error(y_val, model.predict(X_val)))\n",
    "\n",
    "    # Print validation scores\n",
    "    print(f\"All Training R2s: {[round(x, 3) for x in cv_lm_tr_r2s]}\")\n",
    "    print(f\"Training R2s: {round(np.mean(cv_lm_tr_r2s), 3)} +- {round(np.std(cv_lm_tr_r2s), 3)}\")\n",
    "\n",
    "    print(f\"All Training MAEs: {[round(x, 3) for x in cv_lm_tr_mae]}\")\n",
    "    print(f\"Training MAEs: {round(np.mean(cv_lm_tr_mae), 3)} +- {round(np.std(cv_lm_tr_mae), 3)}\")\n",
    "\n",
    "    print(f\"All Validation R2s: {[round(x, 3) for x in cv_lm_val_r2s]}\")\n",
    "    print(f\"Cross Val R2s: {round(np.mean(cv_lm_val_r2s), 3)} +- {round(np.std(cv_lm_val_r2s), 3)}\")\n",
    "\n",
    "    print(f\"All Validation MAEs: {[round(x, 3) for x in cv_lm_val_mae]}\")\n",
    "    print(f\"Cross Val MAEs: {round(np.mean(cv_lm_val_mae), 3)} +- {round(np.std(cv_lm_val_mae), 3)}\")\n",
    "\n",
    "    return model\n",
    "\n",
    "# Split the data into training and testing sets\n",
    "X_train, X_test, y_train, y_test = train_test_split(X, y, test_size=0.2, random_state=2023)\n",
    "\n",
    "# Perform cross-validation and train the model\n",
    "model = cross_val(X_train, y_train, 5)"
   ]
  },
  {
   "cell_type": "markdown",
   "id": "57cb6007-b906-42e5-a9ba-7079fa57ada6",
   "metadata": {},
   "source": [
    "-The average cross-validation R2 of 0.796 suggests that this generalizes well to unseen data, although there is some variability (0.015).\n",
    "\n",
    "-Seems to be slightly overfitting the training data, as the training R2 is slightly higher than the cross-validation R2. However, the difference is not significant.\n",
    "\n",
    "-On average, 0.134 units away from the true values."
   ]
  },
  {
   "cell_type": "code",
   "execution_count": 90,
   "id": "081d7403-94a3-42ba-a06b-929598083b57",
   "metadata": {},
   "outputs": [],
   "source": [
    "def residual_analysis_plots(model):\n",
    "    \n",
    "    import scipy.stats as stats\n",
    "    import matplotlib.pyplot as plt\n",
    "    \n",
    "    predictions = model.predict()\n",
    "    residuals = model.resid\n",
    "    \n",
    "    fig, ax = plt.subplots(1, 2, sharey=\"all\", figsize=(10, 6))\n",
    "    \n",
    "    sns.scatterplot(x=predictions, y=residuals, ax=ax[0], alpha=.3)\n",
    "    ax[0].set_title(\"Residual Plot\")\n",
    "    ax[0].set_xlabel(\"Prediction\")\n",
    "    ax[0].set_ylabel(\"Residuals\")\n",
    "    \n",
    "    stats.probplot(residuals, dist=\"norm\", plot=ax[1])\n",
    "    ax[1].set_title(\"Normal Q-Q Plot\")   \n"
   ]
  },
  {
   "cell_type": "code",
   "execution_count": 92,
   "id": "212b45d4-7964-44fb-a6a1-90c1f7a7909c",
   "metadata": {},
   "outputs": [
    {
     "data": {
      "image/png": "[encoded data removed]",
      "text/plain": [
       "<Figure size 1000x600 with 2 Axes>"
      ]
     },
     "metadata": {},
     "output_type": "display_data"
    }
   ],
   "source": [
    "residual_analysis_plots(model)"
   ]
  },
  {
   "cell_type": "markdown",
   "id": "7336407d-cb78-4397-9174-5c01988d3033",
   "metadata": {},
   "source": [
    "#### VIF"
   ]
  },
  {
   "cell_type": "markdown",
   "id": "7117d95b-931c-4229-b118-58fac982df6c",
   "metadata": {},
   "source": [
    "VIF ≈ 1: No multicollinearity.\n",
    "1 < VIF < 5: Moderate multicollinearity (acceptable).\n",
    "VIF > 8: High multicollinearity (problematic). Over threshold "
   ]
  },
  {
   "cell_type": "code",
   "execution_count": 97,
   "id": "a7793d91-e7ee-481f-bd5c-81fc7d84e92e",
   "metadata": {},
   "outputs": [
    {
     "data": {
      "text/plain": [
       "const                        43.386185\n",
       "sqft                          3.203718\n",
       "beds                          2.685583\n",
       "bath                          2.025061\n",
       "laundry_not_in_unit           1.379397\n",
       "parking_(b) protected         8.119353\n",
       "parking_(c) off-street        2.223513\n",
       "parking_(d) no parking        8.777061\n",
       "hood_district_central         1.404615\n",
       "hood_district_marina          1.363295\n",
       "hood_district_north beach     1.435016\n",
       "hood_district_southwest       1.285736\n",
       "hood_district_west            1.189619\n",
       "dtype: float64"
      ]
     },
     "execution_count": 97,
     "metadata": {},
     "output_type": "execute_result"
    }
   ],
   "source": [
    "from statsmodels.stats.outliers_influence import variance_inflation_factor as vif\n",
    "\n",
    "pd.Series(\n",
    "    [vif(X.values , i )  for i in range (X.shape[1])] ,\n",
    "    index = X.columns\n",
    ")\n"
   ]
  },
  {
   "cell_type": "code",
   "execution_count": 99,
   "id": "0ebdce67-f033-438a-adee-2989c622f4d0",
   "metadata": {},
   "outputs": [
    {
     "data": {
      "text/html": [
       "<div>\n",
       "<style scoped>\n",
       "    .dataframe tbody tr th:only-of-type {\n",
       "        vertical-align: middle;\n",
       "    }\n",
       "\n",
       "    .dataframe tbody tr th {\n",
       "        vertical-align: top;\n",
       "    }\n",
       "\n",
       "    .dataframe thead th {\n",
       "        text-align: right;\n",
       "    }\n",
       "</style>\n",
       "<table border=\"1\" class=\"dataframe\">\n",
       "  <thead>\n",
       "    <tr style=\"text-align: right;\">\n",
       "      <th></th>\n",
       "      <th>dfb_const</th>\n",
       "      <th>dfb_sqft</th>\n",
       "      <th>dfb_beds</th>\n",
       "      <th>dfb_bath</th>\n",
       "      <th>dfb_laundry_not_in_unit</th>\n",
       "      <th>dfb_parking_(b) protected</th>\n",
       "      <th>dfb_parking_(c) off-street</th>\n",
       "      <th>dfb_parking_(d) no parking</th>\n",
       "      <th>dfb_hood_district_central</th>\n",
       "      <th>dfb_hood_district_marina</th>\n",
       "      <th>dfb_hood_district_north beach</th>\n",
       "      <th>dfb_hood_district_southwest</th>\n",
       "      <th>dfb_hood_district_west</th>\n",
       "      <th>cooks_d</th>\n",
       "      <th>standard_resid</th>\n",
       "      <th>hat_diag</th>\n",
       "      <th>dffits_internal</th>\n",
       "      <th>student_resid</th>\n",
       "      <th>dffits</th>\n",
       "    </tr>\n",
       "  </thead>\n",
       "  <tbody>\n",
       "    <tr>\n",
       "      <th>226</th>\n",
       "      <td>-0.034543</td>\n",
       "      <td>0.056183</td>\n",
       "      <td>-0.113033</td>\n",
       "      <td>0.052808</td>\n",
       "      <td>0.012922</td>\n",
       "      <td>-0.008691</td>\n",
       "      <td>0.009320</td>\n",
       "      <td>0.008321</td>\n",
       "      <td>0.039852</td>\n",
       "      <td>0.025048</td>\n",
       "      <td>0.024963</td>\n",
       "      <td>0.027635</td>\n",
       "      <td>0.019094</td>\n",
       "      <td>0.001386</td>\n",
       "      <td>-0.752660</td>\n",
       "      <td>0.030823</td>\n",
       "      <td>-0.134226</td>\n",
       "      <td>-0.752397</td>\n",
       "      <td>-0.134179</td>\n",
       "    </tr>\n",
       "    <tr>\n",
       "      <th>391</th>\n",
       "      <td>-0.002753</td>\n",
       "      <td>-0.003616</td>\n",
       "      <td>0.011022</td>\n",
       "      <td>0.001128</td>\n",
       "      <td>-0.014100</td>\n",
       "      <td>0.003933</td>\n",
       "      <td>0.004045</td>\n",
       "      <td>-0.001935</td>\n",
       "      <td>-0.032662</td>\n",
       "      <td>0.003126</td>\n",
       "      <td>0.008115</td>\n",
       "      <td>0.005461</td>\n",
       "      <td>0.004792</td>\n",
       "      <td>0.000221</td>\n",
       "      <td>-0.471937</td>\n",
       "      <td>0.012740</td>\n",
       "      <td>-0.053610</td>\n",
       "      <td>-0.471641</td>\n",
       "      <td>-0.053576</td>\n",
       "    </tr>\n",
       "    <tr>\n",
       "      <th>293</th>\n",
       "      <td>-0.003683</td>\n",
       "      <td>0.005322</td>\n",
       "      <td>-0.010714</td>\n",
       "      <td>0.002769</td>\n",
       "      <td>0.014913</td>\n",
       "      <td>0.001905</td>\n",
       "      <td>0.084081</td>\n",
       "      <td>-0.000942</td>\n",
       "      <td>-0.009637</td>\n",
       "      <td>-0.021600</td>\n",
       "      <td>0.030876</td>\n",
       "      <td>-0.003299</td>\n",
       "      <td>-0.005945</td>\n",
       "      <td>0.001311</td>\n",
       "      <td>0.537662</td>\n",
       "      <td>0.055662</td>\n",
       "      <td>0.130534</td>\n",
       "      <td>0.537353</td>\n",
       "      <td>0.130459</td>\n",
       "    </tr>\n",
       "    <tr>\n",
       "      <th>648</th>\n",
       "      <td>0.016494</td>\n",
       "      <td>-0.005657</td>\n",
       "      <td>-0.018776</td>\n",
       "      <td>-0.006193</td>\n",
       "      <td>-0.049580</td>\n",
       "      <td>-0.002298</td>\n",
       "      <td>-0.001045</td>\n",
       "      <td>0.011242</td>\n",
       "      <td>0.064255</td>\n",
       "      <td>0.013052</td>\n",
       "      <td>0.000341</td>\n",
       "      <td>0.009084</td>\n",
       "      <td>0.010924</td>\n",
       "      <td>0.000734</td>\n",
       "      <td>0.767114</td>\n",
       "      <td>0.015948</td>\n",
       "      <td>0.097657</td>\n",
       "      <td>0.766859</td>\n",
       "      <td>0.097624</td>\n",
       "    </tr>\n",
       "    <tr>\n",
       "      <th>366</th>\n",
       "      <td>-0.000048</td>\n",
       "      <td>0.000037</td>\n",
       "      <td>0.002386</td>\n",
       "      <td>-0.001722</td>\n",
       "      <td>0.002308</td>\n",
       "      <td>-0.000283</td>\n",
       "      <td>-0.000492</td>\n",
       "      <td>0.000153</td>\n",
       "      <td>-0.000976</td>\n",
       "      <td>-0.000992</td>\n",
       "      <td>0.003919</td>\n",
       "      <td>-0.001111</td>\n",
       "      <td>-0.000876</td>\n",
       "      <td>0.000005</td>\n",
       "      <td>0.072854</td>\n",
       "      <td>0.011066</td>\n",
       "      <td>0.007707</td>\n",
       "      <td>0.072795</td>\n",
       "      <td>0.007700</td>\n",
       "    </tr>\n",
       "  </tbody>\n",
       "</table>\n",
       "</div>"
      ],
      "text/plain": [
       "     dfb_const  dfb_sqft  dfb_beds  dfb_bath  dfb_laundry_not_in_unit  \\\n",
       "226  -0.034543  0.056183 -0.113033  0.052808                 0.012922   \n",
       "391  -0.002753 -0.003616  0.011022  0.001128                -0.014100   \n",
       "293  -0.003683  0.005322 -0.010714  0.002769                 0.014913   \n",
       "648   0.016494 -0.005657 -0.018776 -0.006193                -0.049580   \n",
       "366  -0.000048  0.000037  0.002386 -0.001722                 0.002308   \n",
       "\n",
       "     dfb_parking_(b) protected  dfb_parking_(c) off-street  \\\n",
       "226                  -0.008691                    0.009320   \n",
       "391                   0.003933                    0.004045   \n",
       "293                   0.001905                    0.084081   \n",
       "648                  -0.002298                   -0.001045   \n",
       "366                  -0.000283                   -0.000492   \n",
       "\n",
       "     dfb_parking_(d) no parking  dfb_hood_district_central  \\\n",
       "226                    0.008321                   0.039852   \n",
       "391                   -0.001935                  -0.032662   \n",
       "293                   -0.000942                  -0.009637   \n",
       "648                    0.011242                   0.064255   \n",
       "366                    0.000153                  -0.000976   \n",
       "\n",
       "     dfb_hood_district_marina  dfb_hood_district_north beach  \\\n",
       "226                  0.025048                       0.024963   \n",
       "391                  0.003126                       0.008115   \n",
       "293                 -0.021600                       0.030876   \n",
       "648                  0.013052                       0.000341   \n",
       "366                 -0.000992                       0.003919   \n",
       "\n",
       "     dfb_hood_district_southwest  dfb_hood_district_west   cooks_d  \\\n",
       "226                     0.027635                0.019094  0.001386   \n",
       "391                     0.005461                0.004792  0.000221   \n",
       "293                    -0.003299               -0.005945  0.001311   \n",
       "648                     0.009084                0.010924  0.000734   \n",
       "366                    -0.001111               -0.000876  0.000005   \n",
       "\n",
       "     standard_resid  hat_diag  dffits_internal  student_resid    dffits  \n",
       "226       -0.752660  0.030823        -0.134226      -0.752397 -0.134179  \n",
       "391       -0.471937  0.012740        -0.053610      -0.471641 -0.053576  \n",
       "293        0.537662  0.055662         0.130534       0.537353  0.130459  \n",
       "648        0.767114  0.015948         0.097657       0.766859  0.097624  \n",
       "366        0.072854  0.011066         0.007707       0.072795  0.007700  "
      ]
     },
     "execution_count": 99,
     "metadata": {},
     "output_type": "execute_result"
    }
   ],
   "source": [
    "influence = model.get_influence()\n",
    "inf_summary_df = influence.summary_frame()\n",
    "inf_summary_df.head()"
   ]
  },
  {
   "cell_type": "code",
   "execution_count": 101,
   "id": "bf6194d9-fae6-4073-acbb-e399abf1a955",
   "metadata": {},
   "outputs": [
    {
     "data": {
      "text/plain": [
       "253    8.259018e-02\n",
       "56     4.049579e-02\n",
       "602    3.891627e-02\n",
       "598    2.886367e-02\n",
       "863    2.687522e-02\n",
       "           ...     \n",
       "373    1.754602e-07\n",
       "509    1.602983e-07\n",
       "210    8.824512e-08\n",
       "722    5.957661e-08\n",
       "738    1.498837e-09\n",
       "Name: cooks_d, Length: 633, dtype: float64"
      ]
     },
     "execution_count": 101,
     "metadata": {},
     "output_type": "execute_result"
    }
   ],
   "source": [
    "inf_summary_df[\"cooks_d\"].sort_values(ascending=False)"
   ]
  },
  {
   "cell_type": "code",
   "execution_count": 103,
   "id": "e8539715-e58d-4398-8ad4-a7e21562b2c1",
   "metadata": {},
   "outputs": [
    {
     "data": {
      "text/plain": [
       "const                           1.0\n",
       "sqft                         2358.0\n",
       "beds                            3.0\n",
       "bath                            3.0\n",
       "laundry_not_in_unit             0.0\n",
       "parking_(b) protected           0.0\n",
       "parking_(c) off-street          0.0\n",
       "parking_(d) no parking          0.0\n",
       "hood_district_central           0.0\n",
       "hood_district_marina            0.0\n",
       "hood_district_north beach       0.0\n",
       "hood_district_southwest         0.0\n",
       "hood_district_west              0.0\n",
       "Name: 253, dtype: float64"
      ]
     },
     "execution_count": 103,
     "metadata": {},
     "output_type": "execute_result"
    }
   ],
   "source": [
    "X.loc[253]"
   ]
  },
  {
   "cell_type": "code",
   "execution_count": 105,
   "id": "adaecfa4-48a4-4fcf-9a70-d8fc744b6a00",
   "metadata": {},
   "outputs": [
    {
     "data": {
      "text/plain": [
       "9.852194258148577"
      ]
     },
     "execution_count": 105,
     "metadata": {},
     "output_type": "execute_result"
    }
   ],
   "source": [
    "y.loc[253]"
   ]
  },
  {
   "cell_type": "code",
   "execution_count": 107,
   "id": "350b18be-7478-4d43-bbca-454b9e57ca5d",
   "metadata": {},
   "outputs": [
    {
     "data": {
      "text/plain": [
       "18999.999999999993"
      ]
     },
     "execution_count": 107,
     "metadata": {},
     "output_type": "execute_result"
    }
   ],
   "source": [
    "np.exp(y.loc[253]) # log "
   ]
  },
  {
   "cell_type": "markdown",
   "id": "cdda8fce-3fcf-4ba8-a394-46239750bfd5",
   "metadata": {},
   "source": [
    "- Biggest potential outlier is 19000"
   ]
  },
  {
   "cell_type": "markdown",
   "id": "2989bc2b-9728-4bc6-a5f8-fab72009e7b6",
   "metadata": {},
   "source": [
    "## Final Model Fit "
   ]
  },
  {
   "cell_type": "code",
   "execution_count": 111,
   "id": "8411e9d9-4c0a-4198-8ff0-a29c5f373e1f",
   "metadata": {},
   "outputs": [
    {
     "data": {
      "text/html": [
       "<table class=\"simpletable\">\n",
       "<caption>OLS Regression Results</caption>\n",
       "<tr>\n",
       "  <th>Dep. Variable:</th>          <td>price</td>      <th>  R-squared:         </th> <td>   0.805</td>\n",
       "</tr>\n",
       "<tr>\n",
       "  <th>Model:</th>                   <td>OLS</td>       <th>  Adj. R-squared:    </th> <td>   0.802</td>\n",
       "</tr>\n",
       "<tr>\n",
       "  <th>Method:</th>             <td>Least Squares</td>  <th>  F-statistic:       </th> <td>   334.8</td>\n",
       "</tr>\n",
       "<tr>\n",
       "  <th>Date:</th>             <td>Thu, 07 Nov 2024</td> <th>  Prob (F-statistic):</th>  <td>  0.00</td> \n",
       "</tr>\n",
       "<tr>\n",
       "  <th>Time:</th>                 <td>21:58:14</td>     <th>  Log-Likelihood:    </th> <td>  369.31</td>\n",
       "</tr>\n",
       "<tr>\n",
       "  <th>No. Observations:</th>      <td>   989</td>      <th>  AIC:               </th> <td>  -712.6</td>\n",
       "</tr>\n",
       "<tr>\n",
       "  <th>Df Residuals:</th>          <td>   976</td>      <th>  BIC:               </th> <td>  -649.0</td>\n",
       "</tr>\n",
       "<tr>\n",
       "  <th>Df Model:</th>              <td>    12</td>      <th>                     </th>     <td> </td>   \n",
       "</tr>\n",
       "<tr>\n",
       "  <th>Covariance Type:</th>      <td>nonrobust</td>    <th>                     </th>     <td> </td>   \n",
       "</tr>\n",
       "</table>\n",
       "<table class=\"simpletable\">\n",
       "<tr>\n",
       "              <td></td>                 <th>coef</th>     <th>std err</th>      <th>t</th>      <th>P>|t|</th>  <th>[0.025</th>    <th>0.975]</th>  \n",
       "</tr>\n",
       "<tr>\n",
       "  <th>const</th>                     <td>    7.7658</td> <td>    0.035</td> <td>  221.130</td> <td> 0.000</td> <td>    7.697</td> <td>    7.835</td>\n",
       "</tr>\n",
       "<tr>\n",
       "  <th>sqft</th>                      <td>    0.0004</td> <td> 2.01e-05</td> <td>   19.606</td> <td> 0.000</td> <td>    0.000</td> <td>    0.000</td>\n",
       "</tr>\n",
       "<tr>\n",
       "  <th>beds</th>                      <td>    0.1036</td> <td>    0.008</td> <td>   12.760</td> <td> 0.000</td> <td>    0.088</td> <td>    0.120</td>\n",
       "</tr>\n",
       "<tr>\n",
       "  <th>bath</th>                      <td>    0.0390</td> <td>    0.014</td> <td>    2.731</td> <td> 0.006</td> <td>    0.011</td> <td>    0.067</td>\n",
       "</tr>\n",
       "<tr>\n",
       "  <th>laundry_not_in_unit</th>       <td>   -0.0833</td> <td>    0.013</td> <td>   -6.652</td> <td> 0.000</td> <td>   -0.108</td> <td>   -0.059</td>\n",
       "</tr>\n",
       "<tr>\n",
       "  <th>parking_(b) protected</th>     <td>   -0.1780</td> <td>    0.031</td> <td>   -5.822</td> <td> 0.000</td> <td>   -0.238</td> <td>   -0.118</td>\n",
       "</tr>\n",
       "<tr>\n",
       "  <th>parking_(c) off-street</th>    <td>   -0.1956</td> <td>    0.041</td> <td>   -4.728</td> <td> 0.000</td> <td>   -0.277</td> <td>   -0.114</td>\n",
       "</tr>\n",
       "<tr>\n",
       "  <th>parking_(d) no parking</th>    <td>   -0.2569</td> <td>    0.032</td> <td>   -8.128</td> <td> 0.000</td> <td>   -0.319</td> <td>   -0.195</td>\n",
       "</tr>\n",
       "<tr>\n",
       "  <th>hood_district_central</th>     <td>    0.0246</td> <td>    0.016</td> <td>    1.497</td> <td> 0.135</td> <td>   -0.008</td> <td>    0.057</td>\n",
       "</tr>\n",
       "<tr>\n",
       "  <th>hood_district_marina</th>      <td>    0.0797</td> <td>    0.019</td> <td>    4.224</td> <td> 0.000</td> <td>    0.043</td> <td>    0.117</td>\n",
       "</tr>\n",
       "<tr>\n",
       "  <th>hood_district_north beach</th> <td>   -0.0200</td> <td>    0.016</td> <td>   -1.276</td> <td> 0.202</td> <td>   -0.051</td> <td>    0.011</td>\n",
       "</tr>\n",
       "<tr>\n",
       "  <th>hood_district_southwest</th>   <td>   -0.1813</td> <td>    0.020</td> <td>   -8.958</td> <td> 0.000</td> <td>   -0.221</td> <td>   -0.142</td>\n",
       "</tr>\n",
       "<tr>\n",
       "  <th>hood_district_west</th>        <td>   -0.0746</td> <td>    0.027</td> <td>   -2.811</td> <td> 0.005</td> <td>   -0.127</td> <td>   -0.023</td>\n",
       "</tr>\n",
       "</table>\n",
       "<table class=\"simpletable\">\n",
       "<tr>\n",
       "  <th>Omnibus:</th>       <td>22.059</td> <th>  Durbin-Watson:     </th> <td>   1.915</td>\n",
       "</tr>\n",
       "<tr>\n",
       "  <th>Prob(Omnibus):</th> <td> 0.000</td> <th>  Jarque-Bera (JB):  </th> <td>  42.897</td>\n",
       "</tr>\n",
       "<tr>\n",
       "  <th>Skew:</th>          <td> 0.078</td> <th>  Prob(JB):          </th> <td>4.84e-10</td>\n",
       "</tr>\n",
       "<tr>\n",
       "  <th>Kurtosis:</th>      <td> 4.008</td> <th>  Cond. No.          </th> <td>1.29e+04</td>\n",
       "</tr>\n",
       "</table><br/><br/>Notes:<br/>[1] Standard Errors assume that the covariance matrix of the errors is correctly specified.<br/>[2] The condition number is large, 1.29e+04. This might indicate that there are<br/>strong multicollinearity or other numerical problems."
      ],
      "text/latex": [
       "\\begin{center}\n",
       "\\begin{tabular}{lclc}\n",
       "\\toprule\n",
       "\\textbf{Dep. Variable:}              &      price       & \\textbf{  R-squared:         } &     0.805   \\\\\n",
       "\\textbf{Model:}                      &       OLS        & \\textbf{  Adj. R-squared:    } &     0.802   \\\\\n",
       "\\textbf{Method:}                     &  Least Squares   & \\textbf{  F-statistic:       } &     334.8   \\\\\n",
       "\\textbf{Date:}                       & Thu, 07 Nov 2024 & \\textbf{  Prob (F-statistic):} &     0.00    \\\\\n",
       "\\textbf{Time:}                       &     21:58:14     & \\textbf{  Log-Likelihood:    } &    369.31   \\\\\n",
       "\\textbf{No. Observations:}           &         989      & \\textbf{  AIC:               } &    -712.6   \\\\\n",
       "\\textbf{Df Residuals:}               &         976      & \\textbf{  BIC:               } &    -649.0   \\\\\n",
       "\\textbf{Df Model:}                   &          12      & \\textbf{                     } &             \\\\\n",
       "\\textbf{Covariance Type:}            &    nonrobust     & \\textbf{                     } &             \\\\\n",
       "\\bottomrule\n",
       "\\end{tabular}\n",
       "\\begin{tabular}{lcccccc}\n",
       "                                     & \\textbf{coef} & \\textbf{std err} & \\textbf{t} & \\textbf{P$> |$t$|$} & \\textbf{[0.025} & \\textbf{0.975]}  \\\\\n",
       "\\midrule\n",
       "\\textbf{const}                       &       7.7658  &        0.035     &   221.130  &         0.000        &        7.697    &        7.835     \\\\\n",
       "\\textbf{sqft}                        &       0.0004  &     2.01e-05     &    19.606  &         0.000        &        0.000    &        0.000     \\\\\n",
       "\\textbf{beds}                        &       0.1036  &        0.008     &    12.760  &         0.000        &        0.088    &        0.120     \\\\\n",
       "\\textbf{bath}                        &       0.0390  &        0.014     &     2.731  &         0.006        &        0.011    &        0.067     \\\\\n",
       "\\textbf{laundry\\_not\\_in\\_unit}      &      -0.0833  &        0.013     &    -6.652  &         0.000        &       -0.108    &       -0.059     \\\\\n",
       "\\textbf{parking\\_(b) protected}      &      -0.1780  &        0.031     &    -5.822  &         0.000        &       -0.238    &       -0.118     \\\\\n",
       "\\textbf{parking\\_(c) off-street}     &      -0.1956  &        0.041     &    -4.728  &         0.000        &       -0.277    &       -0.114     \\\\\n",
       "\\textbf{parking\\_(d) no parking}     &      -0.2569  &        0.032     &    -8.128  &         0.000        &       -0.319    &       -0.195     \\\\\n",
       "\\textbf{hood\\_district\\_central}     &       0.0246  &        0.016     &     1.497  &         0.135        &       -0.008    &        0.057     \\\\\n",
       "\\textbf{hood\\_district\\_marina}      &       0.0797  &        0.019     &     4.224  &         0.000        &        0.043    &        0.117     \\\\\n",
       "\\textbf{hood\\_district\\_north beach} &      -0.0200  &        0.016     &    -1.276  &         0.202        &       -0.051    &        0.011     \\\\\n",
       "\\textbf{hood\\_district\\_southwest}   &      -0.1813  &        0.020     &    -8.958  &         0.000        &       -0.221    &       -0.142     \\\\\n",
       "\\textbf{hood\\_district\\_west}        &      -0.0746  &        0.027     &    -2.811  &         0.005        &       -0.127    &       -0.023     \\\\\n",
       "\\bottomrule\n",
       "\\end{tabular}\n",
       "\\begin{tabular}{lclc}\n",
       "\\textbf{Omnibus:}       & 22.059 & \\textbf{  Durbin-Watson:     } &    1.915  \\\\\n",
       "\\textbf{Prob(Omnibus):} &  0.000 & \\textbf{  Jarque-Bera (JB):  } &   42.897  \\\\\n",
       "\\textbf{Skew:}          &  0.078 & \\textbf{  Prob(JB):          } & 4.84e-10  \\\\\n",
       "\\textbf{Kurtosis:}      &  4.008 & \\textbf{  Cond. No.          } & 1.29e+04  \\\\\n",
       "\\bottomrule\n",
       "\\end{tabular}\n",
       "%\\caption{OLS Regression Results}\n",
       "\\end{center}\n",
       "\n",
       "Notes: \\newline\n",
       " [1] Standard Errors assume that the covariance matrix of the errors is correctly specified. \\newline\n",
       " [2] The condition number is large, 1.29e+04. This might indicate that there are \\newline\n",
       " strong multicollinearity or other numerical problems."
      ],
      "text/plain": [
       "<class 'statsmodels.iolib.summary.Summary'>\n",
       "\"\"\"\n",
       "                            OLS Regression Results                            \n",
       "==============================================================================\n",
       "Dep. Variable:                  price   R-squared:                       0.805\n",
       "Model:                            OLS   Adj. R-squared:                  0.802\n",
       "Method:                 Least Squares   F-statistic:                     334.8\n",
       "Date:                Thu, 07 Nov 2024   Prob (F-statistic):               0.00\n",
       "Time:                        21:58:14   Log-Likelihood:                 369.31\n",
       "No. Observations:                 989   AIC:                            -712.6\n",
       "Df Residuals:                     976   BIC:                            -649.0\n",
       "Df Model:                          12                                         \n",
       "Covariance Type:            nonrobust                                         \n",
       "=============================================================================================\n",
       "                                coef    std err          t      P>|t|      [0.025      0.975]\n",
       "---------------------------------------------------------------------------------------------\n",
       "const                         7.7658      0.035    221.130      0.000       7.697       7.835\n",
       "sqft                          0.0004   2.01e-05     19.606      0.000       0.000       0.000\n",
       "beds                          0.1036      0.008     12.760      0.000       0.088       0.120\n",
       "bath                          0.0390      0.014      2.731      0.006       0.011       0.067\n",
       "laundry_not_in_unit          -0.0833      0.013     -6.652      0.000      -0.108      -0.059\n",
       "parking_(b) protected        -0.1780      0.031     -5.822      0.000      -0.238      -0.118\n",
       "parking_(c) off-street       -0.1956      0.041     -4.728      0.000      -0.277      -0.114\n",
       "parking_(d) no parking       -0.2569      0.032     -8.128      0.000      -0.319      -0.195\n",
       "hood_district_central         0.0246      0.016      1.497      0.135      -0.008       0.057\n",
       "hood_district_marina          0.0797      0.019      4.224      0.000       0.043       0.117\n",
       "hood_district_north beach    -0.0200      0.016     -1.276      0.202      -0.051       0.011\n",
       "hood_district_southwest      -0.1813      0.020     -8.958      0.000      -0.221      -0.142\n",
       "hood_district_west           -0.0746      0.027     -2.811      0.005      -0.127      -0.023\n",
       "==============================================================================\n",
       "Omnibus:                       22.059   Durbin-Watson:                   1.915\n",
       "Prob(Omnibus):                  0.000   Jarque-Bera (JB):               42.897\n",
       "Skew:                           0.078   Prob(JB):                     4.84e-10\n",
       "Kurtosis:                       4.008   Cond. No.                     1.29e+04\n",
       "==============================================================================\n",
       "\n",
       "Notes:\n",
       "[1] Standard Errors assume that the covariance matrix of the errors is correctly specified.\n",
       "[2] The condition number is large, 1.29e+04. This might indicate that there are\n",
       "strong multicollinearity or other numerical problems.\n",
       "\"\"\""
      ]
     },
     "execution_count": 111,
     "metadata": {},
     "output_type": "execute_result"
    }
   ],
   "source": [
    "final_model = sm.OLS(y, X).fit()\n",
    "\n",
    "final_model.summary()"
   ]
  },
  {
   "cell_type": "code",
   "execution_count": 117,
   "id": "c6ff02f3-6124-4608-bd15-703aa0d5f713",
   "metadata": {},
   "outputs": [
    {
     "name": "stdout",
     "output_type": "stream",
     "text": [
      "433.1995377873103\n",
      "Test R2: 0.7939283611190202\n"
     ]
    }
   ],
   "source": [
    "print(mae(np.exp(y_test) , np.exp(final_model.predict(X_test))))#Reversing the log transformation (np.exp returns the original values). \n",
    "print(f\"Test R2: {r2(y_test, final_model.predict(X_test))}\")"
   ]
  },
  {
   "cell_type": "markdown",
   "id": "71a6545e-ef56-4140-8a70-c33564bd02b5",
   "metadata": {},
   "source": [
    "## Scaling Data"
   ]
  },
  {
   "cell_type": "code",
   "execution_count": 129,
   "id": "c30d146c-1ff8-4a13-be7f-d4276d21ab3b",
   "metadata": {},
   "outputs": [],
   "source": [
    "from sklearn.preprocessing import StandardScaler\n",
    "\n",
    "std = StandardScaler()\n",
    "X_tr = std.fit_transform(X.values)\n",
    "X_te = std.transform(X_test.values)"
   ]
  },
  {
   "cell_type": "markdown",
   "id": "4e116b5c-540c-40aa-bcc0-4f9afeb83c48",
   "metadata": {},
   "source": [
    "### Ridge"
   ]
  },
  {
   "cell_type": "markdown",
   "id": "96ecc51d-f86a-41ab-8ac9-c12b36fbe370",
   "metadata": {},
   "source": [
    "Ridge Regression:\n",
    "\n",
    "-Feature Selection: Ridge regression shrinks coefficients towards zero but doesn't necessarily set them to zero. This means all features are included in the model, but their impact is reduced.\n",
    "\n",
    "-Coefficient Interpretation: The coefficients in the Ridge model indicate the relative importance of each feature, but they might be slightly biased due to the shrinkage."
   ]
  },
  {
   "cell_type": "code",
   "execution_count": 131,
   "id": "1df73236-506f-48ac-85ab-0b13eba8bd20",
   "metadata": {},
   "outputs": [
    {
     "name": "stdout",
     "output_type": "stream",
     "text": [
      "Cross Val R2: 0.8045471923681918\n",
      "Cross Val MAE: 483.3268502678909\n",
      "Alpha: 2.848035868435802\n"
     ]
    }
   ],
   "source": [
    "from sklearn.linear_model import RidgeCV\n",
    "\n",
    "n_alphas = 100\n",
    "alphas = 10 ** np.linspace(-3, 3, n_alphas)\n",
    "\n",
    "ridge_model = RidgeCV(alphas=alphas, cv=5)\n",
    "\n",
    "ridge_model.fit(X_tr, y)\n",
    "print(f\"Cross Val R2: {ridge_model.score(X_tr, y)}\")\n",
    "print(f\"Cross Val MAE: {mae(np.exp(y), np.exp(ridge_model.predict(X_tr)))}\")\n",
    "print(f\"Alpha: {ridge_model.alpha_}\")"
   ]
  },
  {
   "cell_type": "code",
   "execution_count": 133,
   "id": "6bdfbca2-334c-4007-946a-06fb5e81d5fe",
   "metadata": {},
   "outputs": [
    {
     "data": {
      "text/plain": [
       "[('const', 0.0),\n",
       " ('sqft', 0.18646547705538002),\n",
       " ('beds', 0.11119084494827658),\n",
       " ('bath', 0.021439397890659736),\n",
       " ('laundry_not_in_unit', -0.041864733632180996),\n",
       " ('parking_(b) protected', -0.08355384454173038),\n",
       " ('parking_(c) off-street', -0.0355719872170661),\n",
       " ('parking_(d) no parking', -0.12329362572450568),\n",
       " ('hood_district_central', 0.009265560034414465),\n",
       " ('hood_district_marina', 0.026120495188356522),\n",
       " ('hood_district_north beach', -0.008266398413189843),\n",
       " ('hood_district_southwest', -0.05418415382076281),\n",
       " ('hood_district_west', -0.016379729349057147)]"
      ]
     },
     "execution_count": 133,
     "metadata": {},
     "output_type": "execute_result"
    }
   ],
   "source": [
    "list(zip(X.columns, ridge_model.coef_))"
   ]
  },
  {
   "cell_type": "markdown",
   "id": "a942535f-5e71-4ea9-941d-6c49d4035bbe",
   "metadata": {},
   "source": [
    "## Lasso"
   ]
  },
  {
   "cell_type": "markdown",
   "id": "9cd3eb1f-3f62-417f-baf2-cf6b7257f910",
   "metadata": {},
   "source": [
    "Lasso Regression:\n",
    "\n",
    "- Feature Selection: Lasso regression can set some coefficients to exactly zero, effectively eliminating those features from the model. This is a form of feature selection.\n",
    "\n",
    "- Coefficient Interpretation: The non-zero coefficients in the Lasso model represent the most important features. The magnitude of the coefficients indicates the strength of their impact on the target variable."
   ]
  },
  {
   "cell_type": "code",
   "execution_count": 174,
   "id": "58081c27-821b-4128-bae0-c9325b15a90b",
   "metadata": {},
   "outputs": [
    {
     "name": "stdout",
     "output_type": "stream",
     "text": [
      "Cross Val R2: 0.7935988985541174\n",
      "Cross Val MAE: 496.1102755461162\n",
      "Alpha: 0.01\n"
     ]
    }
   ],
   "source": [
    "from sklearn.linear_model import LassoCV\n",
    "\n",
    "n_alphas = 200\n",
    "alphas = 10 ** np.linspace(-2, 3, n_alphas)\n",
    "\n",
    "lasso_model = LassoCV(alphas=alphas, cv=5)\n",
    "\n",
    "lasso_model.fit(X_tr, y)\n",
    "\n",
    "print(f\"Cross Val R2: {lasso_model.score(X_tr, y)}\")\n",
    "print(f\"Cross Val MAE: {mae(np.exp(y), np.exp(lasso_model.predict(X_tr)))}\")\n",
    "print(f\"Alpha: {lasso_model.alpha_}\")"
   ]
  },
  {
   "cell_type": "code",
   "execution_count": 146,
   "id": "3c54b71c-085f-4e98-a41d-c2cd4e861f69",
   "metadata": {},
   "outputs": [
    {
     "data": {
      "text/plain": [
       "[('const', 0.0),\n",
       " ('sqft', 0.19534027239161814),\n",
       " ('beds', 0.09824220538756936),\n",
       " ('bath', 0.019548580484348713),\n",
       " ('laundry_not_in_unit', -0.0402773495341586),\n",
       " ('parking_(b) protected', -0.0),\n",
       " ('parking_(c) off-street', -0.0),\n",
       " ('parking_(d) no parking', -0.034792160157383206),\n",
       " ('hood_district_central', 0.0),\n",
       " ('hood_district_marina', 0.014347417277744395),\n",
       " ('hood_district_north beach', -0.002747974407785368),\n",
       " ('hood_district_southwest', -0.04775278266761139),\n",
       " ('hood_district_west', -0.008720666194562004)]"
      ]
     },
     "execution_count": 146,
     "metadata": {},
     "output_type": "execute_result"
    }
   ],
   "source": [
    "list(zip(X.columns, lasso_model.coef_))"
   ]
  },
  {
   "cell_type": "markdown",
   "id": "30027c09-bd42-4af3-b1f1-2d6c02e44c18",
   "metadata": {},
   "source": [
    "- Positive Coefficients: Features like sqft, beds, bath, hood_district_marina have positive coefficients, indicating that increasing these features tends to increase the predicted price.\n",
    "\n",
    "- Negative Coefficients: Features like laundry_not_in_unit, parking_(b) protected, parking_(c) off-street, parking_(d) no parking, hood_district_southwest, and hood_district_west have negative coefficients,\n",
    "suggesting that increasing these features tends to decrease the predicted price.\n",
    "\n",
    "- In the case of 'hood_district_central', 0.0, this means that the model has found no significant relationship between properties located in the \"central\" district and their prices. "
   ]
  },
  {
   "cell_type": "markdown",
   "id": "8ab40fbe-1080-4709-9e14-b6797eaba67e",
   "metadata": {},
   "source": [
    "### ElasticNet"
   ]
  },
  {
   "cell_type": "code",
   "execution_count": 150,
   "id": "38d10c9a-a79b-4475-9c32-77d55dd1219a",
   "metadata": {
    "scrolled": true
   },
   "outputs": [
    {
     "name": "stdout",
     "output_type": "stream",
     "text": [
      "Cross Val R2: 0.8042779781218352\n",
      "Cross Val MAE: 484.0454454761578\n",
      "Alpha: 0.01\n",
      "L1_Ratio: 0.01\n"
     ]
    }
   ],
   "source": [
    "from sklearn.linear_model import ElasticNetCV\n",
    "\n",
    "alphas = 10 ** np.linspace(-2, 3, 200)\n",
    "l1_ratios = np.linspace(.01, 1, 100)\n",
    "\n",
    "enet_model = ElasticNetCV(alphas=alphas, l1_ratio=l1_ratios, cv=5)\n",
    "\n",
    "enet_model.fit(X_tr, y)\n",
    "\n",
    "print(f\"Cross Val R2: {enet_model.score(X_tr, y)}\")\n",
    "print(f\"Cross Val MAE: {mae(np.exp(y), np.exp(enet_model.predict(X_tr)))}\")\n",
    "print(f\"Alpha: {enet_model.alpha_}\")\n",
    "print(f\"L1_Ratio: {enet_model.l1_ratio_}\")  # Alpha: 0.01 is chosen for regularization."
   ]
  },
  {
   "cell_type": "markdown",
   "id": "e44dfc53-6c42-4c48-8643-1483baaea36b",
   "metadata": {},
   "source": [
    "L1_ratio determines how much the model prioritizes shrinking coefficients to zero (feature selection) vs. shrinking them all towards zero (reducing overall complexity). A lower L1_ratio (like 0.01 here) emphasizes L2 regularization, keeping more features in the model but reducing their impact."
   ]
  },
  {
   "cell_type": "markdown",
   "id": "085d9c8c-0602-416f-853f-607e33c70da7",
   "metadata": {},
   "source": [
    "## Final Model Testing"
   ]
  },
  {
   "cell_type": "code",
   "execution_count": 153,
   "id": "3f3e852f-f944-49d7-9193-fa04a0a2a91f",
   "metadata": {},
   "outputs": [
    {
     "name": "stdout",
     "output_type": "stream",
     "text": [
      "Test MAE: 433.93317323077804\n",
      "Test R2: 0.7939889429281246\n"
     ]
    }
   ],
   "source": [
    "print(f\"Test MAE: {mae(np.exp(y_test), np.exp(ridge_model.predict(X_te)))}\")\n",
    "print(f\"Test R2: {r2(y_test, ridge_model.predict(X_te))}\")"
   ]
  },
  {
   "cell_type": "code",
   "execution_count": 160,
   "id": "1bfdb280-b568-47b8-b3ab-89a53e90a1b5",
   "metadata": {},
   "outputs": [
    {
     "name": "stdout",
     "output_type": "stream",
     "text": [
      "Test MAE: 437.1818269022074\n",
      "Test R2: 0.7917643776873509\n"
     ]
    }
   ],
   "source": [
    "print(f\"Test MAE: {mae(np.exp(y_test), np.exp(lasso_model.predict(X_te)))}\")\n",
    "print(f\"Test R2: {r2(y_test, lasso_model.predict(X_te))}\")"
   ]
  },
  {
   "cell_type": "markdown",
   "id": "d686daed-fa18-409d-aa67-401965796eb0",
   "metadata": {},
   "source": [
    "- Test MAE:\n",
    "Ridge model gives a slightly better Test MAE (433.93 vs. 437.18). This means Ridge is producing marginally more accurate predictions on average.\n",
    "- Test R²:\n",
    "Ridge also has a slightly better Test R² (0.79399 vs. 0.79176), indicating that it explains slightly more variance in the test data compared to Lasso.\n"
   ]
  }
 ],
 "metadata": {
  "kernelspec": {
   "display_name": "Python 3 (ipykernel)",
   "language": "python",
   "name": "python3"
  },
  "language_info": {
   "codemirror_mode": {
    "name": "ipython",
    "version": 3
   },
   "file_extension": ".py",
   "mimetype": "text/x-python",
   "name": "python",
   "nbconvert_exporter": "python",
   "pygments_lexer": "ipython3",
   "version": "3.11.5"
  }
 },
 "nbformat": 4,
 "nbformat_minor": 5
}
